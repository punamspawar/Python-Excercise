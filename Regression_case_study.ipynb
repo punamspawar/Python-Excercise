{
 "cells": [
  {
   "cell_type": "code",
   "execution_count": 1,
   "id": "d9a71b23",
   "metadata": {},
   "outputs": [],
   "source": [
    "import pandas as pd\n",
    "import numpy as np\n",
    "import seaborn as sns"
   ]
  },
  {
   "cell_type": "code",
   "execution_count": 2,
   "id": "03103f34",
   "metadata": {},
   "outputs": [],
   "source": [
    "cars_data=pd.read_csv('cars_sampled.csv')"
   ]
  },
  {
   "cell_type": "code",
   "execution_count": 3,
   "id": "8adfbf69",
   "metadata": {},
   "outputs": [],
   "source": [
    "cars=cars_data.copy()"
   ]
  },
  {
   "cell_type": "code",
   "execution_count": 4,
   "id": "219fff0d",
   "metadata": {},
   "outputs": [
    {
     "name": "stdout",
     "output_type": "stream",
     "text": [
      "<class 'pandas.core.frame.DataFrame'>\n",
      "RangeIndex: 50001 entries, 0 to 50000\n",
      "Data columns (total 19 columns):\n",
      " #   Column               Non-Null Count  Dtype \n",
      "---  ------               --------------  ----- \n",
      " 0   dateCrawled          50001 non-null  object\n",
      " 1   name                 50001 non-null  object\n",
      " 2   seller               50001 non-null  object\n",
      " 3   offerType            50001 non-null  object\n",
      " 4   price                50001 non-null  int64 \n",
      " 5   abtest               50001 non-null  object\n",
      " 6   vehicleType          44813 non-null  object\n",
      " 7   yearOfRegistration   50001 non-null  int64 \n",
      " 8   gearbox              47177 non-null  object\n",
      " 9   powerPS              50001 non-null  int64 \n",
      " 10  model                47243 non-null  object\n",
      " 11  kilometer            50001 non-null  int64 \n",
      " 12  monthOfRegistration  50001 non-null  int64 \n",
      " 13  fuelType             45498 non-null  object\n",
      " 14  brand                50001 non-null  object\n",
      " 15  notRepairedDamage    40285 non-null  object\n",
      " 16  dateCreated          50001 non-null  object\n",
      " 17  postalCode           50001 non-null  int64 \n",
      " 18  lastSeen             50001 non-null  object\n",
      "dtypes: int64(6), object(13)\n",
      "memory usage: 7.2+ MB\n"
     ]
    }
   ],
   "source": [
    "cars.info()"
   ]
  },
  {
   "cell_type": "code",
   "execution_count": 5,
   "id": "4845f7c0",
   "metadata": {},
   "outputs": [
    {
     "data": {
      "text/html": [
       "<div>\n",
       "<style scoped>\n",
       "    .dataframe tbody tr th:only-of-type {\n",
       "        vertical-align: middle;\n",
       "    }\n",
       "\n",
       "    .dataframe tbody tr th {\n",
       "        vertical-align: top;\n",
       "    }\n",
       "\n",
       "    .dataframe thead th {\n",
       "        text-align: right;\n",
       "    }\n",
       "</style>\n",
       "<table border=\"1\" class=\"dataframe\">\n",
       "  <thead>\n",
       "    <tr style=\"text-align: right;\">\n",
       "      <th></th>\n",
       "      <th>price</th>\n",
       "      <th>yearOfRegistration</th>\n",
       "      <th>powerPS</th>\n",
       "      <th>kilometer</th>\n",
       "      <th>monthOfRegistration</th>\n",
       "      <th>postalCode</th>\n",
       "    </tr>\n",
       "  </thead>\n",
       "  <tbody>\n",
       "    <tr>\n",
       "      <th>count</th>\n",
       "      <td>50001.000</td>\n",
       "      <td>50001.000</td>\n",
       "      <td>50001.000</td>\n",
       "      <td>50001.000</td>\n",
       "      <td>50001.000</td>\n",
       "      <td>50001.000</td>\n",
       "    </tr>\n",
       "    <tr>\n",
       "      <th>mean</th>\n",
       "      <td>6559.865</td>\n",
       "      <td>2005.544</td>\n",
       "      <td>116.496</td>\n",
       "      <td>125613.688</td>\n",
       "      <td>5.744</td>\n",
       "      <td>50775.217</td>\n",
       "    </tr>\n",
       "    <tr>\n",
       "      <th>std</th>\n",
       "      <td>85818.470</td>\n",
       "      <td>122.992</td>\n",
       "      <td>230.568</td>\n",
       "      <td>40205.234</td>\n",
       "      <td>3.711</td>\n",
       "      <td>25743.702</td>\n",
       "    </tr>\n",
       "    <tr>\n",
       "      <th>min</th>\n",
       "      <td>0.000</td>\n",
       "      <td>1000.000</td>\n",
       "      <td>0.000</td>\n",
       "      <td>5000.000</td>\n",
       "      <td>0.000</td>\n",
       "      <td>1067.000</td>\n",
       "    </tr>\n",
       "    <tr>\n",
       "      <th>25%</th>\n",
       "      <td>1150.000</td>\n",
       "      <td>1999.000</td>\n",
       "      <td>69.000</td>\n",
       "      <td>125000.000</td>\n",
       "      <td>3.000</td>\n",
       "      <td>30559.000</td>\n",
       "    </tr>\n",
       "    <tr>\n",
       "      <th>50%</th>\n",
       "      <td>2950.000</td>\n",
       "      <td>2003.000</td>\n",
       "      <td>105.000</td>\n",
       "      <td>150000.000</td>\n",
       "      <td>6.000</td>\n",
       "      <td>49504.000</td>\n",
       "    </tr>\n",
       "    <tr>\n",
       "      <th>75%</th>\n",
       "      <td>7190.000</td>\n",
       "      <td>2008.000</td>\n",
       "      <td>150.000</td>\n",
       "      <td>150000.000</td>\n",
       "      <td>9.000</td>\n",
       "      <td>71404.000</td>\n",
       "    </tr>\n",
       "    <tr>\n",
       "      <th>max</th>\n",
       "      <td>12345678.000</td>\n",
       "      <td>9999.000</td>\n",
       "      <td>19312.000</td>\n",
       "      <td>150000.000</td>\n",
       "      <td>12.000</td>\n",
       "      <td>99998.000</td>\n",
       "    </tr>\n",
       "  </tbody>\n",
       "</table>\n",
       "</div>"
      ],
      "text/plain": [
       "             price  yearOfRegistration   powerPS  kilometer  \\\n",
       "count    50001.000           50001.000 50001.000  50001.000   \n",
       "mean      6559.865            2005.544   116.496 125613.688   \n",
       "std      85818.470             122.992   230.568  40205.234   \n",
       "min          0.000            1000.000     0.000   5000.000   \n",
       "25%       1150.000            1999.000    69.000 125000.000   \n",
       "50%       2950.000            2003.000   105.000 150000.000   \n",
       "75%       7190.000            2008.000   150.000 150000.000   \n",
       "max   12345678.000            9999.000 19312.000 150000.000   \n",
       "\n",
       "       monthOfRegistration  postalCode  \n",
       "count            50001.000   50001.000  \n",
       "mean                 5.744   50775.217  \n",
       "std                  3.711   25743.702  \n",
       "min                  0.000    1067.000  \n",
       "25%                  3.000   30559.000  \n",
       "50%                  6.000   49504.000  \n",
       "75%                  9.000   71404.000  \n",
       "max                 12.000   99998.000  "
      ]
     },
     "execution_count": 5,
     "metadata": {},
     "output_type": "execute_result"
    }
   ],
   "source": [
    "#summarizing data\n",
    "cars.describe()\n",
    "pd.set_option('display.float_format', lambda x: '%.3f' % x)\n",
    "cars.describe()\n",
    "\n",
    "#to display maximum number of columns\n",
    "pd.set_option('display.max_columns', 100)\n",
    "cars.describe()"
   ]
  },
  {
   "cell_type": "code",
   "execution_count": 6,
   "id": "1e380311",
   "metadata": {},
   "outputs": [],
   "source": [
    "#dropping unwanted columns\n",
    "col=['name','dateCrawled','dateCreated','postalCode','lastSeen']\n",
    "cars=cars.drop(columns=col,axis=1)"
   ]
  },
  {
   "cell_type": "code",
   "execution_count": 7,
   "id": "6cf126d9",
   "metadata": {},
   "outputs": [
    {
     "data": {
      "text/plain": [
       "(49531, 14)"
      ]
     },
     "execution_count": 7,
     "metadata": {},
     "output_type": "execute_result"
    }
   ],
   "source": [
    "#remove duplicate records\n",
    "cars.drop_duplicates(keep='first',inplace=True)\n",
    "cars.shape"
   ]
  },
  {
   "cell_type": "code",
   "execution_count": 8,
   "id": "c46b37a7",
   "metadata": {},
   "outputs": [
    {
     "data": {
      "text/plain": [
       "seller                    0\n",
       "offerType                 0\n",
       "price                     0\n",
       "abtest                    0\n",
       "vehicleType            5152\n",
       "yearOfRegistration        0\n",
       "gearbox                2765\n",
       "powerPS                   0\n",
       "model                  2730\n",
       "kilometer                 0\n",
       "monthOfRegistration       0\n",
       "fuelType               4467\n",
       "brand                     0\n",
       "notRepairedDamage      9640\n",
       "dtype: int64"
      ]
     },
     "execution_count": 8,
     "metadata": {},
     "output_type": "execute_result"
    }
   ],
   "source": [
    "#data cleaning\n",
    "#no. of missing values in each columns\n",
    "cars.isnull().sum()"
   ]
  },
  {
   "cell_type": "code",
   "execution_count": 9,
   "id": "2fdf2cd0",
   "metadata": {},
   "outputs": [
    {
     "data": {
      "text/plain": [
       "1000     6\n",
       "1255     1\n",
       "1500     2\n",
       "1910    14\n",
       "1928     1\n",
       "        ..\n",
       "7500     1\n",
       "7800     1\n",
       "8500     1\n",
       "8888     2\n",
       "9999     7\n",
       "Name: yearOfRegistration, Length: 97, dtype: int64"
      ]
     },
     "execution_count": 9,
     "metadata": {},
     "output_type": "execute_result"
    }
   ],
   "source": [
    "yearwise_count=cars['yearOfRegistration'].value_counts().sort_index()\n",
    "yearwise_count"
   ]
  },
  {
   "cell_type": "code",
   "execution_count": 10,
   "id": "5484a723",
   "metadata": {},
   "outputs": [
    {
     "data": {
      "text/plain": [
       "26"
      ]
     },
     "execution_count": 10,
     "metadata": {},
     "output_type": "execute_result"
    }
   ],
   "source": [
    "sum(cars['yearOfRegistration']>2018)"
   ]
  },
  {
   "cell_type": "code",
   "execution_count": 11,
   "id": "03baec3e",
   "metadata": {},
   "outputs": [
    {
     "data": {
      "text/plain": [
       "38"
      ]
     },
     "execution_count": 11,
     "metadata": {},
     "output_type": "execute_result"
    }
   ],
   "source": [
    "sum(cars['yearOfRegistration']<1950)"
   ]
  },
  {
   "cell_type": "code",
   "execution_count": 12,
   "id": "edcd7796",
   "metadata": {},
   "outputs": [
    {
     "data": {
      "text/plain": [
       "<AxesSubplot:xlabel='yearOfRegistration', ylabel='price'>"
      ]
     },
     "execution_count": 12,
     "metadata": {},
     "output_type": "execute_result"
    },
    {
     "data": {
      "image/png": "[encoded data removed]",
      "text/plain": [
       "<Figure size 432x288 with 1 Axes>"
      ]
     },
     "metadata": {
      "needs_background": "light"
     },
     "output_type": "display_data"
    }
   ],
   "source": [
    "sns.regplot(x='yearOfRegistration', y='price', scatter=True, fit_reg=False, data=cars)\n",
    "#working range 1950 to 2018"
   ]
  },
  {
   "cell_type": "code",
   "execution_count": 13,
   "id": "bae54b01",
   "metadata": {},
   "outputs": [],
   "source": [
    "price_count=cars['price'].value_counts().sort_index()"
   ]
  },
  {
   "cell_type": "code",
   "execution_count": 14,
   "id": "4a65e6ac",
   "metadata": {},
   "outputs": [
    {
     "name": "stderr",
     "output_type": "stream",
     "text": [
      "C:\\Users\\v-pusalu\\Anaconda3\\lib\\site-packages\\seaborn\\distributions.py:2557: FutureWarning: `distplot` is a deprecated function and will be removed in a future version. Please adapt your code to use either `displot` (a figure-level function with similar flexibility) or `histplot` (an axes-level function for histograms).\n",
      "  warnings.warn(msg, FutureWarning)\n"
     ]
    },
    {
     "data": {
      "text/plain": [
       "<AxesSubplot:xlabel='price', ylabel='Density'>"
      ]
     },
     "execution_count": 14,
     "metadata": {},
     "output_type": "execute_result"
    },
    {
     "data": {
      "image/png": "[encoded data removed]",
      "text/plain": [
       "<Figure size 432x288 with 1 Axes>"
      ]
     },
     "metadata": {
      "needs_background": "light"
     },
     "output_type": "display_data"
    }
   ],
   "source": [
    "sns.distplot(cars['price'])"
   ]
  },
  {
   "cell_type": "code",
   "execution_count": 15,
   "id": "a5b7d1ee",
   "metadata": {},
   "outputs": [
    {
     "data": {
      "text/plain": [
       "count      49531.000\n",
       "mean        6567.220\n",
       "std        86222.378\n",
       "min            0.000\n",
       "25%         1150.000\n",
       "50%         2950.000\n",
       "75%         7100.000\n",
       "max     12345678.000\n",
       "Name: price, dtype: float64"
      ]
     },
     "execution_count": 15,
     "metadata": {},
     "output_type": "execute_result"
    }
   ],
   "source": [
    "cars['price'].describe()"
   ]
  },
  {
   "cell_type": "code",
   "execution_count": 16,
   "id": "8f7ffcd5",
   "metadata": {},
   "outputs": [
    {
     "data": {
      "text/plain": [
       "<AxesSubplot:ylabel='price'>"
      ]
     },
     "execution_count": 16,
     "metadata": {},
     "output_type": "execute_result"
    },
    {
     "data": {
      "image/png": "[encoded data removed]",
      "text/plain": [
       "<Figure size 432x288 with 1 Axes>"
      ]
     },
     "metadata": {
      "needs_background": "light"
     },
     "output_type": "display_data"
    }
   ],
   "source": [
    "sns.boxplot(y=cars['price'])"
   ]
  },
  {
   "cell_type": "code",
   "execution_count": 17,
   "id": "3ddd1c77",
   "metadata": {},
   "outputs": [
    {
     "data": {
      "text/plain": [
       "34"
      ]
     },
     "execution_count": 17,
     "metadata": {},
     "output_type": "execute_result"
    }
   ],
   "source": [
    "sum(cars['price']>150000)"
   ]
  },
  {
   "cell_type": "code",
   "execution_count": 18,
   "id": "23591bd4",
   "metadata": {},
   "outputs": [
    {
     "data": {
      "text/plain": [
       "1748"
      ]
     },
     "execution_count": 18,
     "metadata": {},
     "output_type": "execute_result"
    }
   ],
   "source": [
    "sum(cars['price']<100)\n",
    "#working range 100 - 150000"
   ]
  },
  {
   "cell_type": "code",
   "execution_count": 19,
   "id": "e06e004c",
   "metadata": {},
   "outputs": [],
   "source": [
    "power_count=cars['powerPS'].value_counts().sort_index()"
   ]
  },
  {
   "cell_type": "code",
   "execution_count": 20,
   "id": "469624f4",
   "metadata": {},
   "outputs": [
    {
     "name": "stderr",
     "output_type": "stream",
     "text": [
      "C:\\Users\\v-pusalu\\Anaconda3\\lib\\site-packages\\seaborn\\distributions.py:2557: FutureWarning: `distplot` is a deprecated function and will be removed in a future version. Please adapt your code to use either `displot` (a figure-level function with similar flexibility) or `histplot` (an axes-level function for histograms).\n",
      "  warnings.warn(msg, FutureWarning)\n"
     ]
    },
    {
     "data": {
      "text/plain": [
       "<AxesSubplot:xlabel='powerPS', ylabel='Density'>"
      ]
     },
     "execution_count": 20,
     "metadata": {},
     "output_type": "execute_result"
    },
    {
     "data": {
      "image/png": "[encoded data removed]",
      "text/plain": [
       "<Figure size 432x288 with 1 Axes>"
      ]
     },
     "metadata": {
      "needs_background": "light"
     },
     "output_type": "display_data"
    }
   ],
   "source": [
    "sns.distplot(cars['powerPS'])"
   ]
  },
  {
   "cell_type": "code",
   "execution_count": 21,
   "id": "91d5d3ae",
   "metadata": {},
   "outputs": [
    {
     "data": {
      "text/plain": [
       "count   49531.000\n",
       "mean      116.501\n",
       "std       231.536\n",
       "min         0.000\n",
       "25%        69.000\n",
       "50%       105.000\n",
       "75%       150.000\n",
       "max     19312.000\n",
       "Name: powerPS, dtype: float64"
      ]
     },
     "execution_count": 21,
     "metadata": {},
     "output_type": "execute_result"
    }
   ],
   "source": [
    "cars['powerPS'].describe()"
   ]
  },
  {
   "cell_type": "code",
   "execution_count": 22,
   "id": "17de9d79",
   "metadata": {},
   "outputs": [
    {
     "data": {
      "text/plain": [
       "<AxesSubplot:ylabel='powerPS'>"
      ]
     },
     "execution_count": 22,
     "metadata": {},
     "output_type": "execute_result"
    },
    {
     "data": {
      "image/png": "[encoded data removed]",
      "text/plain": [
       "<Figure size 432x288 with 1 Axes>"
      ]
     },
     "metadata": {
      "needs_background": "light"
     },
     "output_type": "display_data"
    }
   ],
   "source": [
    "sns.boxplot(y=cars['powerPS'])"
   ]
  },
  {
   "cell_type": "code",
   "execution_count": 23,
   "id": "60c7f4ea",
   "metadata": {},
   "outputs": [
    {
     "data": {
      "text/plain": [
       "<AxesSubplot:xlabel='powerPS', ylabel='price'>"
      ]
     },
     "execution_count": 23,
     "metadata": {},
     "output_type": "execute_result"
    },
    {
     "data": {
      "image/png": "[encoded data removed]",
      "text/plain": [
       "<Figure size 432x288 with 1 Axes>"
      ]
     },
     "metadata": {
      "needs_background": "light"
     },
     "output_type": "display_data"
    }
   ],
   "source": [
    "sns.regplot(x='powerPS', y='price', scatter=True, fit_reg=False, data=cars)"
   ]
  },
  {
   "cell_type": "code",
   "execution_count": 24,
   "id": "4cb73e1c",
   "metadata": {},
   "outputs": [
    {
     "name": "stdout",
     "output_type": "stream",
     "text": [
      "115\n",
      "5565\n"
     ]
    }
   ],
   "source": [
    "print(sum(cars['powerPS']>500))\n",
    "print(sum(cars['powerPS']<10))\n",
    "#working range 10 to 500"
   ]
  },
  {
   "cell_type": "code",
   "execution_count": 25,
   "id": "6425acb1",
   "metadata": {},
   "outputs": [],
   "source": [
    "#working range of data\n",
    "cars=cars[\n",
    "    (cars.yearOfRegistration<=2018) \n",
    "    & (cars.yearOfRegistration>=1950)\n",
    "    & (cars.price>=100)\n",
    "    & (cars.price<=150000)\n",
    "    & (cars.powerPS>=10)\n",
    "    & (cars.powerPS<=500)]\n",
    "#~6700 records are dropped"
   ]
  },
  {
   "cell_type": "code",
   "execution_count": 26,
   "id": "28c41986",
   "metadata": {},
   "outputs": [],
   "source": [
    "#combine yearOfRegistration and monthOfRegistration\n",
    "cars['monthOfRegistration']/=12"
   ]
  },
  {
   "cell_type": "code",
   "execution_count": 27,
   "id": "8de6a9d0",
   "metadata": {},
   "outputs": [
    {
     "data": {
      "text/plain": [
       "count   42772.000\n",
       "mean       14.873\n",
       "std         7.093\n",
       "min         0.000\n",
       "25%        10.330\n",
       "50%        14.830\n",
       "75%        19.170\n",
       "max        67.750\n",
       "Name: Age, dtype: float64"
      ]
     },
     "execution_count": 27,
     "metadata": {},
     "output_type": "execute_result"
    }
   ],
   "source": [
    "#create new variable Age by adding yearOfRegistration and monthOfRegistration\n",
    "cars['Age']=(2018-cars['yearOfRegistration'])+cars['monthOfRegistration']\n",
    "cars['Age']=round(cars['Age'],2)\n",
    "cars['Age'].describe()"
   ]
  },
  {
   "cell_type": "code",
   "execution_count": 28,
   "id": "d3f63767",
   "metadata": {},
   "outputs": [],
   "source": [
    "#drop yearOfRegistration and monthOfRegistration from the dataframe\n",
    "cars=cars.drop(columns=['yearOfRegistration', 'monthOfRegistration'], axis=1)"
   ]
  },
  {
   "cell_type": "code",
   "execution_count": 29,
   "id": "05dca08e",
   "metadata": {},
   "outputs": [
    {
     "name": "stderr",
     "output_type": "stream",
     "text": [
      "C:\\Users\\v-pusalu\\Anaconda3\\lib\\site-packages\\seaborn\\distributions.py:2557: FutureWarning: `distplot` is a deprecated function and will be removed in a future version. Please adapt your code to use either `displot` (a figure-level function with similar flexibility) or `histplot` (an axes-level function for histograms).\n",
      "  warnings.warn(msg, FutureWarning)\n"
     ]
    },
    {
     "data": {
      "text/plain": [
       "<AxesSubplot:xlabel='Age', ylabel='Density'>"
      ]
     },
     "execution_count": 29,
     "metadata": {},
     "output_type": "execute_result"
    },
    {
     "data": {
      "image/png": "[encoded data removed]",
      "text/plain": [
       "<Figure size 432x288 with 1 Axes>"
      ]
     },
     "metadata": {
      "needs_background": "light"
     },
     "output_type": "display_data"
    }
   ],
   "source": [
    "#visualize parameters\n",
    "sns.distplot(cars['Age'])"
   ]
  },
  {
   "cell_type": "code",
   "execution_count": 30,
   "id": "019a064a",
   "metadata": {},
   "outputs": [
    {
     "data": {
      "text/plain": [
       "<AxesSubplot:ylabel='Age'>"
      ]
     },
     "execution_count": 30,
     "metadata": {},
     "output_type": "execute_result"
    },
    {
     "data": {
      "image/png": "[encoded data removed]",
      "text/plain": [
       "<Figure size 432x288 with 1 Axes>"
      ]
     },
     "metadata": {
      "needs_background": "light"
     },
     "output_type": "display_data"
    }
   ],
   "source": [
    "sns.boxplot(y=cars['Age'])"
   ]
  },
  {
   "cell_type": "code",
   "execution_count": 31,
   "id": "5ca9c298",
   "metadata": {},
   "outputs": [
    {
     "name": "stderr",
     "output_type": "stream",
     "text": [
      "C:\\Users\\v-pusalu\\Anaconda3\\lib\\site-packages\\seaborn\\distributions.py:2557: FutureWarning: `distplot` is a deprecated function and will be removed in a future version. Please adapt your code to use either `displot` (a figure-level function with similar flexibility) or `histplot` (an axes-level function for histograms).\n",
      "  warnings.warn(msg, FutureWarning)\n"
     ]
    },
    {
     "data": {
      "text/plain": [
       "<AxesSubplot:xlabel='price', ylabel='Density'>"
      ]
     },
     "execution_count": 31,
     "metadata": {},
     "output_type": "execute_result"
    },
    {
     "data": {
      "image/png": "[encoded data removed]",
      "text/plain": [
       "<Figure size 432x288 with 1 Axes>"
      ]
     },
     "metadata": {
      "needs_background": "light"
     },
     "output_type": "display_data"
    }
   ],
   "source": [
    "sns.distplot(cars['price'])"
   ]
  },
  {
   "cell_type": "code",
   "execution_count": 32,
   "id": "ae2990c8",
   "metadata": {},
   "outputs": [
    {
     "data": {
      "text/plain": [
       "<AxesSubplot:ylabel='price'>"
      ]
     },
     "execution_count": 32,
     "metadata": {},
     "output_type": "execute_result"
    },
    {
     "data": {
      "image/png": "[encoded data removed]",
      "text/plain": [
       "<Figure size 432x288 with 1 Axes>"
      ]
     },
     "metadata": {
      "needs_background": "light"
     },
     "output_type": "display_data"
    }
   ],
   "source": [
    "sns.boxplot(y=cars['price'])"
   ]
  },
  {
   "cell_type": "code",
   "execution_count": 33,
   "id": "c9487e70",
   "metadata": {},
   "outputs": [
    {
     "name": "stderr",
     "output_type": "stream",
     "text": [
      "C:\\Users\\v-pusalu\\Anaconda3\\lib\\site-packages\\seaborn\\distributions.py:2557: FutureWarning: `distplot` is a deprecated function and will be removed in a future version. Please adapt your code to use either `displot` (a figure-level function with similar flexibility) or `histplot` (an axes-level function for histograms).\n",
      "  warnings.warn(msg, FutureWarning)\n"
     ]
    },
    {
     "data": {
      "text/plain": [
       "<AxesSubplot:xlabel='powerPS', ylabel='Density'>"
      ]
     },
     "execution_count": 33,
     "metadata": {},
     "output_type": "execute_result"
    },
    {
     "data": {
      "image/png": "[encoded data removed]",
      "text/plain": [
       "<Figure size 432x288 with 1 Axes>"
      ]
     },
     "metadata": {
      "needs_background": "light"
     },
     "output_type": "display_data"
    }
   ],
   "source": [
    "sns.distplot(cars['powerPS'])"
   ]
  },
  {
   "cell_type": "code",
   "execution_count": 34,
   "id": "3ad48d30",
   "metadata": {},
   "outputs": [
    {
     "data": {
      "text/plain": [
       "<AxesSubplot:ylabel='powerPS'>"
      ]
     },
     "execution_count": 34,
     "metadata": {},
     "output_type": "execute_result"
    },
    {
     "data": {
      "image/png": "[encoded data removed]",
      "text/plain": [
       "<Figure size 432x288 with 1 Axes>"
      ]
     },
     "metadata": {
      "needs_background": "light"
     },
     "output_type": "display_data"
    }
   ],
   "source": [
    "sns.boxplot(y=cars['powerPS'])"
   ]
  },
  {
   "cell_type": "code",
   "execution_count": 35,
   "id": "55b4645c",
   "metadata": {},
   "outputs": [
    {
     "data": {
      "text/plain": [
       "<AxesSubplot:xlabel='Age', ylabel='price'>"
      ]
     },
     "execution_count": 35,
     "metadata": {},
     "output_type": "execute_result"
    },
    {
     "data": {
      "image/png": "[encoded data removed]",
      "text/plain": [
       "<Figure size 432x288 with 1 Axes>"
      ]
     },
     "metadata": {
      "needs_background": "light"
     },
     "output_type": "display_data"
    }
   ],
   "source": [
    "#Age vs Price\n",
    "sns.regplot(x='Age', y='price', scatter=True, fit_reg=False, data=cars)\n",
    "#cars priced higher for new cars\n",
    "#with increase in age, price of cars decreased\n",
    "#however some cars are priced higher with increase in age"
   ]
  },
  {
   "cell_type": "code",
   "execution_count": 36,
   "id": "18469c2c",
   "metadata": {},
   "outputs": [
    {
     "data": {
      "text/plain": [
       "<AxesSubplot:xlabel='powerPS', ylabel='price'>"
      ]
     },
     "execution_count": 36,
     "metadata": {},
     "output_type": "execute_result"
    },
    {
     "data": {
      "image/png": "[encoded data removed]",
      "text/plain": [
       "<Figure size 432x288 with 1 Axes>"
      ]
     },
     "metadata": {
      "needs_background": "light"
     },
     "output_type": "display_data"
    }
   ],
   "source": [
    "#powerPS vs price\n",
    "sns.regplot(x='powerPS', y='price', scatter=True, fit_reg=False, data=cars)"
   ]
  },
  {
   "cell_type": "code",
   "execution_count": 37,
   "id": "79715dc5",
   "metadata": {},
   "outputs": [
    {
     "name": "stdout",
     "output_type": "stream",
     "text": [
      "private       42771\n",
      "commercial        1\n",
      "Name: seller, dtype: int64\n",
      "col_0       count\n",
      "seller           \n",
      "commercial  0.000\n",
      "private     1.000\n"
     ]
    },
    {
     "name": "stderr",
     "output_type": "stream",
     "text": [
      "C:\\Users\\v-pusalu\\Anaconda3\\lib\\site-packages\\seaborn\\_decorators.py:36: FutureWarning: Pass the following variable as a keyword arg: x. From version 0.12, the only valid positional argument will be `data`, and passing other arguments without an explicit keyword will result in an error or misinterpretation.\n",
      "  warnings.warn(\n"
     ]
    },
    {
     "data": {
      "text/plain": [
       "<AxesSubplot:xlabel='seller', ylabel='count'>"
      ]
     },
     "execution_count": 37,
     "metadata": {},
     "output_type": "execute_result"
    },
    {
     "data": {
      "image/png": "[encoded data removed]",
      "text/plain": [
       "<Figure size 432x288 with 1 Axes>"
      ]
     },
     "metadata": {
      "needs_background": "light"
     },
     "output_type": "display_data"
    }
   ],
   "source": [
    "#seller variable\n",
    "print(cars['seller'].value_counts())\n",
    "print(pd.crosstab(cars['seller'], columns='count', normalize=True))\n",
    "sns.countplot(cars['seller'])\n",
    "#fewer cars have 'commercial' which is insignificant"
   ]
  },
  {
   "cell_type": "code",
   "execution_count": 38,
   "id": "144d7e59",
   "metadata": {},
   "outputs": [
    {
     "name": "stdout",
     "output_type": "stream",
     "text": [
      "offer    42772\n",
      "Name: offerType, dtype: int64\n"
     ]
    },
    {
     "name": "stderr",
     "output_type": "stream",
     "text": [
      "C:\\Users\\v-pusalu\\Anaconda3\\lib\\site-packages\\seaborn\\_decorators.py:36: FutureWarning: Pass the following variable as a keyword arg: x. From version 0.12, the only valid positional argument will be `data`, and passing other arguments without an explicit keyword will result in an error or misinterpretation.\n",
      "  warnings.warn(\n"
     ]
    },
    {
     "data": {
      "text/plain": [
       "<AxesSubplot:xlabel='offerType', ylabel='count'>"
      ]
     },
     "execution_count": 38,
     "metadata": {},
     "output_type": "execute_result"
    },
    {
     "data": {
      "image/png": "[encoded data removed]",
      "text/plain": [
       "<Figure size 432x288 with 1 Axes>"
      ]
     },
     "metadata": {
      "needs_background": "light"
     },
     "output_type": "display_data"
    }
   ],
   "source": [
    "#variable offertype\n",
    "print(cars['offerType'].value_counts())\n",
    "sns.countplot(cars['offerType'])\n",
    "#all cars have same offerType so this variable in insignificant"
   ]
  },
  {
   "cell_type": "code",
   "execution_count": 39,
   "id": "31904638",
   "metadata": {},
   "outputs": [
    {
     "name": "stdout",
     "output_type": "stream",
     "text": [
      "test       22128\n",
      "control    20644\n",
      "Name: abtest, dtype: int64\n",
      "col_0    counts\n",
      "abtest         \n",
      "control   0.483\n",
      "test      0.517\n"
     ]
    },
    {
     "name": "stderr",
     "output_type": "stream",
     "text": [
      "C:\\Users\\v-pusalu\\Anaconda3\\lib\\site-packages\\seaborn\\_decorators.py:36: FutureWarning: Pass the following variable as a keyword arg: x. From version 0.12, the only valid positional argument will be `data`, and passing other arguments without an explicit keyword will result in an error or misinterpretation.\n",
      "  warnings.warn(\n"
     ]
    },
    {
     "data": {
      "text/plain": [
       "<AxesSubplot:xlabel='abtest', ylabel='count'>"
      ]
     },
     "execution_count": 39,
     "metadata": {},
     "output_type": "execute_result"
    },
    {
     "data": {
      "image/png": "[encoded data removed]",
      "text/plain": [
       "<Figure size 432x288 with 1 Axes>"
      ]
     },
     "metadata": {
      "needs_background": "light"
     },
     "output_type": "display_data"
    }
   ],
   "source": [
    "#variable abtest\n",
    "print(cars['abtest'].value_counts())\n",
    "print(pd.crosstab(cars['abtest'], columns='counts', normalize=True))\n",
    "sns.countplot(cars['abtest'])\n",
    "#equally distributed"
   ]
  },
  {
   "cell_type": "code",
   "execution_count": 40,
   "id": "9425645d",
   "metadata": {},
   "outputs": [
    {
     "data": {
      "text/plain": [
       "<AxesSubplot:xlabel='abtest', ylabel='price'>"
      ]
     },
     "execution_count": 40,
     "metadata": {},
     "output_type": "execute_result"
    },
    {
     "data": {
      "image/png": "[encoded data removed]",
      "text/plain": [
       "<Figure size 432x288 with 1 Axes>"
      ]
     },
     "metadata": {
      "needs_background": "light"
     },
     "output_type": "display_data"
    }
   ],
   "source": [
    "sns.boxplot(x='abtest', y='price', data=cars)\n",
    "#for every price value there is almost 50-50 distribution\n",
    "#does not affect price, so insignificant"
   ]
  },
  {
   "cell_type": "code",
   "execution_count": 41,
   "id": "f412fcaf",
   "metadata": {},
   "outputs": [
    {
     "name": "stdout",
     "output_type": "stream",
     "text": [
      "limousine        11746\n",
      "small car         9285\n",
      "station wagon     8076\n",
      "bus               3597\n",
      "cabrio            2792\n",
      "coupe             2261\n",
      "suv               1813\n",
      "others             326\n",
      "Name: vehicleType, dtype: int64\n",
      "col_0          count\n",
      "vehicleType         \n",
      "bus            0.090\n",
      "cabrio         0.070\n",
      "coupe          0.057\n",
      "limousine      0.294\n",
      "others         0.008\n",
      "small car      0.233\n",
      "station wagon  0.202\n",
      "suv            0.045\n"
     ]
    },
    {
     "name": "stderr",
     "output_type": "stream",
     "text": [
      "C:\\Users\\v-pusalu\\Anaconda3\\lib\\site-packages\\seaborn\\_decorators.py:36: FutureWarning: Pass the following variable as a keyword arg: x. From version 0.12, the only valid positional argument will be `data`, and passing other arguments without an explicit keyword will result in an error or misinterpretation.\n",
      "  warnings.warn(\n"
     ]
    },
    {
     "data": {
      "text/plain": [
       "<AxesSubplot:xlabel='vehicleType', ylabel='count'>"
      ]
     },
     "execution_count": 41,
     "metadata": {},
     "output_type": "execute_result"
    },
    {
     "data": {
      "image/png": "[encoded data removed]",
      "text/plain": [
       "<Figure size 432x288 with 1 Axes>"
      ]
     },
     "metadata": {
      "needs_background": "light"
     },
     "output_type": "display_data"
    }
   ],
   "source": [
    "#variable vehicleType\n",
    "print(cars['vehicleType'].value_counts())\n",
    "print(pd.crosstab(cars['vehicleType'], columns='count', normalize=True))\n",
    "sns.countplot(cars['vehicleType'])"
   ]
  },
  {
   "cell_type": "code",
   "execution_count": 42,
   "id": "3709fdf5",
   "metadata": {},
   "outputs": [
    {
     "data": {
      "text/plain": [
       "<AxesSubplot:xlabel='vehicleType', ylabel='price'>"
      ]
     },
     "execution_count": 42,
     "metadata": {},
     "output_type": "execute_result"
    },
    {
     "data": {
      "image/png": "[encoded data removed]",
      "text/plain": [
       "<Figure size 432x288 with 1 Axes>"
      ]
     },
     "metadata": {
      "needs_background": "light"
     },
     "output_type": "display_data"
    }
   ],
   "source": [
    "sns.boxplot(x='vehicleType', y='price', data=cars)\n",
    "#vehicleType affect price"
   ]
  },
  {
   "cell_type": "code",
   "execution_count": 43,
   "id": "e8551110",
   "metadata": {},
   "outputs": [
    {
     "name": "stdout",
     "output_type": "stream",
     "text": [
      "manual       32582\n",
      "automatic     9396\n",
      "Name: gearbox, dtype: int64\n",
      "col_0      count\n",
      "gearbox         \n",
      "automatic  0.224\n",
      "manual     0.776\n"
     ]
    },
    {
     "name": "stderr",
     "output_type": "stream",
     "text": [
      "C:\\Users\\v-pusalu\\Anaconda3\\lib\\site-packages\\seaborn\\_decorators.py:36: FutureWarning: Pass the following variable as a keyword arg: x. From version 0.12, the only valid positional argument will be `data`, and passing other arguments without an explicit keyword will result in an error or misinterpretation.\n",
      "  warnings.warn(\n"
     ]
    },
    {
     "data": {
      "text/plain": [
       "<AxesSubplot:xlabel='gearbox', ylabel='count'>"
      ]
     },
     "execution_count": 43,
     "metadata": {},
     "output_type": "execute_result"
    },
    {
     "data": {
      "image/png": "[encoded data removed]",
      "text/plain": [
       "<Figure size 432x288 with 1 Axes>"
      ]
     },
     "metadata": {
      "needs_background": "light"
     },
     "output_type": "display_data"
    }
   ],
   "source": [
    "#gearbox variable\n",
    "print(cars['gearbox'].value_counts())\n",
    "print(pd.crosstab(cars['gearbox'], columns='count', normalize=True))\n",
    "sns.countplot(cars['gearbox'])"
   ]
  },
  {
   "cell_type": "code",
   "execution_count": 44,
   "id": "e276aa68",
   "metadata": {},
   "outputs": [
    {
     "data": {
      "text/plain": [
       "<AxesSubplot:xlabel='gearbox', ylabel='price'>"
      ]
     },
     "execution_count": 44,
     "metadata": {},
     "output_type": "execute_result"
    },
    {
     "data": {
      "image/png": "[encoded data removed]",
      "text/plain": [
       "<Figure size 432x288 with 1 Axes>"
      ]
     },
     "metadata": {
      "needs_background": "light"
     },
     "output_type": "display_data"
    }
   ],
   "source": [
    "sns.boxplot(x='gearbox', y='price', data=cars)\n",
    "#gearbox affect price"
   ]
  },
  {
   "cell_type": "code",
   "execution_count": 45,
   "id": "c3b50802",
   "metadata": {},
   "outputs": [
    {
     "name": "stdout",
     "output_type": "stream",
     "text": [
      "golf          3478\n",
      "others        2900\n",
      "3er           2482\n",
      "polo          1500\n",
      "corsa         1386\n",
      "              ... \n",
      "rangerover       1\n",
      "serie_3          1\n",
      "elefantino       1\n",
      "b_max            1\n",
      "serie_2          1\n",
      "Name: model, Length: 247, dtype: int64\n",
      "col_0    count\n",
      "model         \n",
      "100      0.001\n",
      "145      0.000\n",
      "147      0.001\n",
      "156      0.002\n",
      "159      0.000\n",
      "...        ...\n",
      "yaris    0.003\n",
      "yeti     0.001\n",
      "ypsilon  0.001\n",
      "z_reihe  0.003\n",
      "zafira   0.008\n",
      "\n",
      "[247 rows x 1 columns]\n"
     ]
    },
    {
     "name": "stderr",
     "output_type": "stream",
     "text": [
      "C:\\Users\\v-pusalu\\Anaconda3\\lib\\site-packages\\seaborn\\_decorators.py:36: FutureWarning: Pass the following variable as a keyword arg: x. From version 0.12, the only valid positional argument will be `data`, and passing other arguments without an explicit keyword will result in an error or misinterpretation.\n",
      "  warnings.warn(\n"
     ]
    },
    {
     "data": {
      "text/plain": [
       "<AxesSubplot:xlabel='model', ylabel='count'>"
      ]
     },
     "execution_count": 45,
     "metadata": {},
     "output_type": "execute_result"
    },
    {
     "data": {
      "image/png": "[encoded data removed]",
      "text/plain": [
       "<Figure size 432x288 with 1 Axes>"
      ]
     },
     "metadata": {
      "needs_background": "light"
     },
     "output_type": "display_data"
    }
   ],
   "source": [
    "#variable model\n",
    "print(cars['model'].value_counts())\n",
    "print(pd.crosstab(cars['model'], columns='count', normalize=True))\n",
    "sns.countplot(cars['model'])"
   ]
  },
  {
   "cell_type": "code",
   "execution_count": 46,
   "id": "8f1f1098",
   "metadata": {},
   "outputs": [
    {
     "data": {
      "text/plain": [
       "<AxesSubplot:xlabel='model', ylabel='price'>"
      ]
     },
     "execution_count": 46,
     "metadata": {},
     "output_type": "execute_result"
    },
    {
     "data": {
      "image/png": "[encoded data removed]",
      "text/plain": [
       "<Figure size 432x288 with 1 Axes>"
      ]
     },
     "metadata": {
      "needs_background": "light"
     },
     "output_type": "display_data"
    }
   ],
   "source": [
    "sns.boxplot(x='model', y='price', data=cars)\n",
    "#cars are distributed over many models\n",
    "#model variable consider in modelling"
   ]
  },
  {
   "cell_type": "code",
   "execution_count": 47,
   "id": "f7d4778a",
   "metadata": {},
   "outputs": [
    {
     "name": "stdout",
     "output_type": "stream",
     "text": [
      "5000        479\n",
      "10000       207\n",
      "20000       651\n",
      "30000       712\n",
      "40000       795\n",
      "50000       932\n",
      "60000      1101\n",
      "70000      1182\n",
      "80000      1378\n",
      "90000      1484\n",
      "100000     1824\n",
      "125000     4597\n",
      "150000    27430\n",
      "Name: kilometer, dtype: int64\n",
      "col_0      count\n",
      "kilometer       \n",
      "5000       0.011\n",
      "10000      0.005\n",
      "20000      0.015\n",
      "30000      0.017\n",
      "40000      0.019\n",
      "50000      0.022\n",
      "60000      0.026\n",
      "70000      0.028\n",
      "80000      0.032\n",
      "90000      0.035\n",
      "100000     0.043\n",
      "125000     0.107\n",
      "150000     0.641\n"
     ]
    },
    {
     "name": "stderr",
     "output_type": "stream",
     "text": [
      "C:\\Users\\v-pusalu\\Anaconda3\\lib\\site-packages\\seaborn\\_decorators.py:36: FutureWarning: Pass the following variable as a keyword arg: x. From version 0.12, the only valid positional argument will be `data`, and passing other arguments without an explicit keyword will result in an error or misinterpretation.\n",
      "  warnings.warn(\n"
     ]
    },
    {
     "data": {
      "text/plain": [
       "<AxesSubplot:xlabel='kilometer', ylabel='count'>"
      ]
     },
     "execution_count": 47,
     "metadata": {},
     "output_type": "execute_result"
    },
    {
     "data": {
      "image/png": "[encoded data removed]",
      "text/plain": [
       "<Figure size 432x288 with 1 Axes>"
      ]
     },
     "metadata": {
      "needs_background": "light"
     },
     "output_type": "display_data"
    }
   ],
   "source": [
    "#variable kilometer\n",
    "print(cars['kilometer'].value_counts().sort_index())\n",
    "print(pd.crosstab(cars['kilometer'], columns='count', normalize=True))\n",
    "sns.countplot(cars['kilometer'])"
   ]
  },
  {
   "cell_type": "code",
   "execution_count": 48,
   "id": "85b56c13",
   "metadata": {},
   "outputs": [
    {
     "name": "stdout",
     "output_type": "stream",
     "text": [
      "count    42772.000\n",
      "mean    125815.253\n",
      "std      39078.120\n",
      "min       5000.000\n",
      "25%     100000.000\n",
      "50%     150000.000\n",
      "75%     150000.000\n",
      "max     150000.000\n",
      "Name: kilometer, dtype: float64\n"
     ]
    },
    {
     "data": {
      "image/png": "[encoded data removed]",
      "text/plain": [
       "<Figure size 432x288 with 1 Axes>"
      ]
     },
     "metadata": {
      "needs_background": "light"
     },
     "output_type": "display_data"
    }
   ],
   "source": [
    "sns.boxplot(x='kilometer', y='price', data=cars)\n",
    "print(cars['kilometer'].describe())"
   ]
  },
  {
   "cell_type": "code",
   "execution_count": 49,
   "id": "ea0d74ba",
   "metadata": {},
   "outputs": [
    {
     "name": "stderr",
     "output_type": "stream",
     "text": [
      "C:\\Users\\v-pusalu\\Anaconda3\\lib\\site-packages\\seaborn\\distributions.py:2557: FutureWarning: `distplot` is a deprecated function and will be removed in a future version. Please adapt your code to use either `displot` (a figure-level function with similar flexibility) or `histplot` (an axes-level function for histograms).\n",
      "  warnings.warn(msg, FutureWarning)\n"
     ]
    },
    {
     "data": {
      "text/plain": [
       "<AxesSubplot:>"
      ]
     },
     "execution_count": 49,
     "metadata": {},
     "output_type": "execute_result"
    },
    {
     "data": {
      "image/png": "[encoded data removed]",
      "text/plain": [
       "<Figure size 432x288 with 1 Axes>"
      ]
     },
     "metadata": {
      "needs_background": "light"
     },
     "output_type": "display_data"
    }
   ],
   "source": [
    "sns.distplot(x=cars['kilometer'], bins=8, kde=False)"
   ]
  },
  {
   "cell_type": "code",
   "execution_count": 50,
   "id": "6e7eb9b3",
   "metadata": {},
   "outputs": [
    {
     "data": {
      "text/plain": [
       "<AxesSubplot:xlabel='kilometer', ylabel='price'>"
      ]
     },
     "execution_count": 50,
     "metadata": {},
     "output_type": "execute_result"
    },
    {
     "data": {
      "image/png": "[encoded data removed]",
      "text/plain": [
       "<Figure size 432x288 with 1 Axes>"
      ]
     },
     "metadata": {
      "needs_background": "light"
     },
     "output_type": "display_data"
    }
   ],
   "source": [
    "sns.regplot(x='kilometer', y='price', scatter=True, fit_reg=False, data=cars)\n",
    "#variable kilometer is considered for modelling"
   ]
  },
  {
   "cell_type": "code",
   "execution_count": 51,
   "id": "b437ba5b",
   "metadata": {},
   "outputs": [
    {
     "name": "stdout",
     "output_type": "stream",
     "text": [
      "petrol     26509\n",
      "diesel     12854\n",
      "lpg          690\n",
      "cng           70\n",
      "hybrid        36\n",
      "electro       10\n",
      "other          6\n",
      "Name: fuelType, dtype: int64\n",
      "col_0     count\n",
      "fuelType       \n",
      "cng       0.002\n",
      "diesel    0.320\n",
      "electro   0.000\n",
      "hybrid    0.001\n",
      "lpg       0.017\n",
      "other     0.000\n",
      "petrol    0.660\n"
     ]
    },
    {
     "name": "stderr",
     "output_type": "stream",
     "text": [
      "C:\\Users\\v-pusalu\\Anaconda3\\lib\\site-packages\\seaborn\\_decorators.py:36: FutureWarning: Pass the following variable as a keyword arg: x. From version 0.12, the only valid positional argument will be `data`, and passing other arguments without an explicit keyword will result in an error or misinterpretation.\n",
      "  warnings.warn(\n"
     ]
    },
    {
     "data": {
      "text/plain": [
       "<AxesSubplot:xlabel='fuelType', ylabel='count'>"
      ]
     },
     "execution_count": 51,
     "metadata": {},
     "output_type": "execute_result"
    },
    {
     "data": {
      "image/png": "[encoded data removed]",
      "text/plain": [
       "<Figure size 432x288 with 1 Axes>"
      ]
     },
     "metadata": {
      "needs_background": "light"
     },
     "output_type": "display_data"
    }
   ],
   "source": [
    "#variable fuelType\n",
    "print(cars['fuelType'].value_counts())\n",
    "print(pd.crosstab(cars['fuelType'], columns='count', normalize=True))\n",
    "sns.countplot(cars['fuelType'])"
   ]
  },
  {
   "cell_type": "code",
   "execution_count": 52,
   "id": "919b21fc",
   "metadata": {},
   "outputs": [
    {
     "data": {
      "text/plain": [
       "<AxesSubplot:xlabel='fuelType', ylabel='price'>"
      ]
     },
     "execution_count": 52,
     "metadata": {},
     "output_type": "execute_result"
    },
    {
     "data": {
      "image/png": "[encoded data removed]",
      "text/plain": [
       "<Figure size 432x288 with 1 Axes>"
      ]
     },
     "metadata": {
      "needs_background": "light"
     },
     "output_type": "display_data"
    }
   ],
   "source": [
    "sns.boxplot(x='fuelType', y='price', data=cars)\n",
    "#consider for modelling"
   ]
  },
  {
   "cell_type": "code",
   "execution_count": 53,
   "id": "41a12af6",
   "metadata": {},
   "outputs": [
    {
     "name": "stdout",
     "output_type": "stream",
     "text": [
      "volkswagen        9134\n",
      "bmw               4868\n",
      "opel              4487\n",
      "mercedes_benz     4134\n",
      "audi              3984\n",
      "ford              2815\n",
      "renault           1941\n",
      "peugeot           1323\n",
      "fiat               996\n",
      "seat               886\n",
      "skoda              698\n",
      "mazda              663\n",
      "smart              623\n",
      "nissan             601\n",
      "citroen            598\n",
      "toyota             547\n",
      "volvo              429\n",
      "mini               428\n",
      "hyundai            406\n",
      "mitsubishi         359\n",
      "honda              300\n",
      "sonstige_autos     299\n",
      "kia                276\n",
      "suzuki             264\n",
      "porsche            260\n",
      "alfa_romeo         245\n",
      "chevrolet          213\n",
      "chrysler           151\n",
      "dacia              123\n",
      "subaru             112\n",
      "jeep                91\n",
      "land_rover          81\n",
      "jaguar              78\n",
      "daihatsu            67\n",
      "saab                65\n",
      "lancia              56\n",
      "daewoo              53\n",
      "rover               53\n",
      "trabant             43\n",
      "lada                22\n",
      "Name: brand, dtype: int64\n",
      "col_0           count\n",
      "brand                \n",
      "alfa_romeo      0.006\n",
      "audi            0.093\n",
      "bmw             0.114\n",
      "chevrolet       0.005\n",
      "chrysler        0.004\n",
      "citroen         0.014\n",
      "dacia           0.003\n",
      "daewoo          0.001\n",
      "daihatsu        0.002\n",
      "fiat            0.023\n",
      "ford            0.066\n",
      "honda           0.007\n",
      "hyundai         0.009\n",
      "jaguar          0.002\n",
      "jeep            0.002\n",
      "kia             0.006\n",
      "lada            0.001\n",
      "lancia          0.001\n",
      "land_rover      0.002\n",
      "mazda           0.016\n",
      "mercedes_benz   0.097\n",
      "mini            0.010\n",
      "mitsubishi      0.008\n",
      "nissan          0.014\n",
      "opel            0.105\n",
      "peugeot         0.031\n",
      "porsche         0.006\n",
      "renault         0.045\n",
      "rover           0.001\n",
      "saab            0.002\n",
      "seat            0.021\n",
      "skoda           0.016\n",
      "smart           0.015\n",
      "sonstige_autos  0.007\n",
      "subaru          0.003\n",
      "suzuki          0.006\n",
      "toyota          0.013\n",
      "trabant         0.001\n",
      "volkswagen      0.214\n",
      "volvo           0.010\n"
     ]
    }
   ],
   "source": [
    "#variable brand\n",
    "print(cars['brand'].value_counts())\n",
    "print(pd.crosstab(cars['brand'], columns='count', normalize=True))"
   ]
  },
  {
   "cell_type": "code",
   "execution_count": 54,
   "id": "6e4cd0ad",
   "metadata": {},
   "outputs": [
    {
     "name": "stderr",
     "output_type": "stream",
     "text": [
      "C:\\Users\\v-pusalu\\Anaconda3\\lib\\site-packages\\seaborn\\_decorators.py:36: FutureWarning: Pass the following variable as a keyword arg: x. From version 0.12, the only valid positional argument will be `data`, and passing other arguments without an explicit keyword will result in an error or misinterpretation.\n",
      "  warnings.warn(\n"
     ]
    },
    {
     "data": {
      "text/plain": [
       "<AxesSubplot:xlabel='brand', ylabel='count'>"
      ]
     },
     "execution_count": 54,
     "metadata": {},
     "output_type": "execute_result"
    },
    {
     "data": {
      "image/png": "[encoded data removed]",
      "text/plain": [
       "<Figure size 432x288 with 1 Axes>"
      ]
     },
     "metadata": {
      "needs_background": "light"
     },
     "output_type": "display_data"
    }
   ],
   "source": [
    "sns.countplot(cars['brand'])"
   ]
  },
  {
   "cell_type": "code",
   "execution_count": 55,
   "id": "120b9b9f",
   "metadata": {},
   "outputs": [
    {
     "data": {
      "text/plain": [
       "<AxesSubplot:xlabel='brand', ylabel='price'>"
      ]
     },
     "execution_count": 55,
     "metadata": {},
     "output_type": "execute_result"
    },
    {
     "data": {
      "image/png": "[encoded data removed]",
      "text/plain": [
       "<Figure size 432x288 with 1 Axes>"
      ]
     },
     "metadata": {
      "needs_background": "light"
     },
     "output_type": "display_data"
    }
   ],
   "source": [
    "sns.boxplot(x='brand', y='price', data=cars)"
   ]
  },
  {
   "cell_type": "code",
   "execution_count": 56,
   "id": "8976e3bf",
   "metadata": {},
   "outputs": [
    {
     "data": {
      "text/plain": [
       "<AxesSubplot:xlabel='brand', ylabel='price'>"
      ]
     },
     "execution_count": 56,
     "metadata": {},
     "output_type": "execute_result"
    },
    {
     "data": {
      "image/png": "[encoded data removed]",
      "text/plain": [
       "<Figure size 432x288 with 1 Axes>"
      ]
     },
     "metadata": {
      "needs_background": "light"
     },
     "output_type": "display_data"
    }
   ],
   "source": [
    "sns.regplot(x='brand', y='price', scatter=True, fit_reg=False, data=cars)\n",
    "#consider for modelling"
   ]
  },
  {
   "cell_type": "code",
   "execution_count": 58,
   "id": "3e912318",
   "metadata": {},
   "outputs": [
    {
     "name": "stdout",
     "output_type": "stream",
     "text": [
      "no     32507\n",
      "yes     3988\n",
      "Name: notRepairedDamage, dtype: int64\n",
      "col_0              count\n",
      "notRepairedDamage       \n",
      "no                 0.891\n",
      "yes                0.109\n"
     ]
    },
    {
     "name": "stderr",
     "output_type": "stream",
     "text": [
      "C:\\Users\\v-pusalu\\Anaconda3\\lib\\site-packages\\seaborn\\_decorators.py:36: FutureWarning: Pass the following variable as a keyword arg: x. From version 0.12, the only valid positional argument will be `data`, and passing other arguments without an explicit keyword will result in an error or misinterpretation.\n",
      "  warnings.warn(\n"
     ]
    },
    {
     "data": {
      "text/plain": [
       "<AxesSubplot:xlabel='notRepairedDamage', ylabel='count'>"
      ]
     },
     "execution_count": 58,
     "metadata": {},
     "output_type": "execute_result"
    },
    {
     "data": {
      "image/png": "[encoded data removed]",
      "text/plain": [
       "<Figure size 432x288 with 1 Axes>"
      ]
     },
     "metadata": {
      "needs_background": "light"
     },
     "output_type": "display_data"
    }
   ],
   "source": [
    "#variable notRepairedDamage\n",
    "#yes- car is damaged but not rectified\n",
    "#no - car was damaged but has been rectified\n",
    "print(cars['notRepairedDamage'].value_counts())\n",
    "print(pd.crosstab(cars['notRepairedDamage'], columns='count', normalize=True))\n",
    "sns.countplot(cars['notRepairedDamage'])"
   ]
  },
  {
   "cell_type": "code",
   "execution_count": 59,
   "id": "713c0efb",
   "metadata": {},
   "outputs": [
    {
     "data": {
      "text/plain": [
       "<AxesSubplot:xlabel='notRepairedDamage', ylabel='price'>"
      ]
     },
     "execution_count": 59,
     "metadata": {},
     "output_type": "execute_result"
    },
    {
     "data": {
      "image/png": "[encoded data removed]",
      "text/plain": [
       "<Figure size 432x288 with 1 Axes>"
      ]
     },
     "metadata": {
      "needs_background": "light"
     },
     "output_type": "display_data"
    }
   ],
   "source": [
    "sns.boxplot(x='notRepairedDamage', y='price', data=cars)\n",
    "#consider for modelling"
   ]
  },
  {
   "cell_type": "code",
   "execution_count": 60,
   "id": "059abc01",
   "metadata": {},
   "outputs": [],
   "source": [
    "#remove insignificant variables\n",
    "cols=['seller', 'offerType', 'abtest']\n",
    "cars=cars.drop(columns=cols, axis=1)\n",
    "cars_copy=cars.copy()"
   ]
  },
  {
   "cell_type": "code",
   "execution_count": 61,
   "id": "1b18f724",
   "metadata": {},
   "outputs": [
    {
     "name": "stdout",
     "output_type": "stream",
     "text": [
      "           price  powerPS  kilometer    Age\n",
      "price      1.000    0.575     -0.440 -0.336\n",
      "powerPS    0.575    1.000     -0.016 -0.151\n",
      "kilometer -0.440   -0.016      1.000  0.292\n",
      "Age       -0.336   -0.151      0.292  1.000\n"
     ]
    }
   ],
   "source": [
    "#correlation\n",
    "cars_select=cars_copy.select_dtypes(exclude=['object'])\n",
    "corr=cars_select.corr()\n",
    "round(corr,3)\n",
    "print(corr)"
   ]
  },
  {
   "cell_type": "code",
   "execution_count": 62,
   "id": "1dbf90b9",
   "metadata": {},
   "outputs": [],
   "source": [
    "#ommit missing values\n",
    "cars_omit=cars.dropna(axis=0)"
   ]
  },
  {
   "cell_type": "code",
   "execution_count": 63,
   "id": "89f9cce4",
   "metadata": {},
   "outputs": [
    {
     "data": {
      "text/html": [
       "<div>\n",
       "<style scoped>\n",
       "    .dataframe tbody tr th:only-of-type {\n",
       "        vertical-align: middle;\n",
       "    }\n",
       "\n",
       "    .dataframe tbody tr th {\n",
       "        vertical-align: top;\n",
       "    }\n",
       "\n",
       "    .dataframe thead th {\n",
       "        text-align: right;\n",
       "    }\n",
       "</style>\n",
       "<table border=\"1\" class=\"dataframe\">\n",
       "  <thead>\n",
       "    <tr style=\"text-align: right;\">\n",
       "      <th></th>\n",
       "      <th>price</th>\n",
       "      <th>vehicleType</th>\n",
       "      <th>gearbox</th>\n",
       "      <th>powerPS</th>\n",
       "      <th>model</th>\n",
       "      <th>kilometer</th>\n",
       "      <th>fuelType</th>\n",
       "      <th>brand</th>\n",
       "      <th>notRepairedDamage</th>\n",
       "      <th>Age</th>\n",
       "    </tr>\n",
       "  </thead>\n",
       "  <tbody>\n",
       "    <tr>\n",
       "      <th>1</th>\n",
       "      <td>13299</td>\n",
       "      <td>suv</td>\n",
       "      <td>manual</td>\n",
       "      <td>163</td>\n",
       "      <td>xc_reihe</td>\n",
       "      <td>150000</td>\n",
       "      <td>diesel</td>\n",
       "      <td>volvo</td>\n",
       "      <td>no</td>\n",
       "      <td>13.500</td>\n",
       "    </tr>\n",
       "    <tr>\n",
       "      <th>3</th>\n",
       "      <td>4500</td>\n",
       "      <td>small car</td>\n",
       "      <td>manual</td>\n",
       "      <td>86</td>\n",
       "      <td>ibiza</td>\n",
       "      <td>60000</td>\n",
       "      <td>petrol</td>\n",
       "      <td>seat</td>\n",
       "      <td>no</td>\n",
       "      <td>13.000</td>\n",
       "    </tr>\n",
       "    <tr>\n",
       "      <th>4</th>\n",
       "      <td>18750</td>\n",
       "      <td>suv</td>\n",
       "      <td>automatic</td>\n",
       "      <td>185</td>\n",
       "      <td>xc_reihe</td>\n",
       "      <td>150000</td>\n",
       "      <td>diesel</td>\n",
       "      <td>volvo</td>\n",
       "      <td>no</td>\n",
       "      <td>10.920</td>\n",
       "    </tr>\n",
       "    <tr>\n",
       "      <th>5</th>\n",
       "      <td>988</td>\n",
       "      <td>limousine</td>\n",
       "      <td>manual</td>\n",
       "      <td>90</td>\n",
       "      <td>passat</td>\n",
       "      <td>150000</td>\n",
       "      <td>petrol</td>\n",
       "      <td>volkswagen</td>\n",
       "      <td>no</td>\n",
       "      <td>23.170</td>\n",
       "    </tr>\n",
       "    <tr>\n",
       "      <th>7</th>\n",
       "      <td>1399</td>\n",
       "      <td>coupe</td>\n",
       "      <td>manual</td>\n",
       "      <td>136</td>\n",
       "      <td>clk</td>\n",
       "      <td>150000</td>\n",
       "      <td>petrol</td>\n",
       "      <td>mercedes_benz</td>\n",
       "      <td>no</td>\n",
       "      <td>21.920</td>\n",
       "    </tr>\n",
       "  </tbody>\n",
       "</table>\n",
       "</div>"
      ],
      "text/plain": [
       "   price vehicleType    gearbox  powerPS     model  kilometer fuelType  \\\n",
       "1  13299         suv     manual      163  xc_reihe     150000   diesel   \n",
       "3   4500   small car     manual       86     ibiza      60000   petrol   \n",
       "4  18750         suv  automatic      185  xc_reihe     150000   diesel   \n",
       "5    988   limousine     manual       90    passat     150000   petrol   \n",
       "7   1399       coupe     manual      136       clk     150000   petrol   \n",
       "\n",
       "           brand notRepairedDamage    Age  \n",
       "1          volvo                no 13.500  \n",
       "3           seat                no 13.000  \n",
       "4          volvo                no 10.920  \n",
       "5     volkswagen                no 23.170  \n",
       "7  mercedes_benz                no 21.920  "
      ]
     },
     "execution_count": 63,
     "metadata": {},
     "output_type": "execute_result"
    }
   ],
   "source": [
    "cars_omit.head()"
   ]
  },
  {
   "cell_type": "code",
   "execution_count": 65,
   "id": "feae5e2c",
   "metadata": {},
   "outputs": [],
   "source": [
    "#one-hot encoding\n",
    "#converting categorical variables to dummy variables\n",
    "cars_omit=pd.get_dummies(cars_omit, drop_first=True)"
   ]
  },
  {
   "cell_type": "code",
   "execution_count": 66,
   "id": "f0d9f261",
   "metadata": {},
   "outputs": [],
   "source": [
    "from sklearn.model_selection import train_test_split\n",
    "from sklearn.linear_model import LinearRegression\n",
    "from sklearn.ensemble import RandomForestRegressor\n",
    "from sklearn.metrics import mean_squared_error"
   ]
  },
  {
   "cell_type": "code",
   "execution_count": 67,
   "id": "505bd25e",
   "metadata": {},
   "outputs": [],
   "source": [
    "#model building\n",
    "#separating input and output features\n",
    "x1=cars_omit.drop(['price'], axis='columns', inplace=False)\n",
    "y1=cars_omit['price']"
   ]
  },
  {
   "cell_type": "code",
   "execution_count": 68,
   "id": "6fd6a9e4",
   "metadata": {},
   "outputs": [
    {
     "data": {
      "text/plain": [
       "array([[<AxesSubplot:title={'center':'1.Before'}>,\n",
       "        <AxesSubplot:title={'center':'2.After'}>]], dtype=object)"
      ]
     },
     "execution_count": 68,
     "metadata": {},
     "output_type": "execute_result"
    },
    {
     "data": {
      "image/png": "[encoded data removed]",
      "text/plain": [
       "<Figure size 432x288 with 2 Axes>"
      ]
     },
     "metadata": {
      "needs_background": "light"
     },
     "output_type": "display_data"
    }
   ],
   "source": [
    "#Plotting the variable price\n",
    "prices=pd.DataFrame({'1.Before':y1,'2.After':np.log(y1)})\n",
    "prices.hist()"
   ]
  },
  {
   "cell_type": "code",
   "execution_count": 69,
   "id": "87ced057",
   "metadata": {},
   "outputs": [],
   "source": [
    "#Transforming price as a logarithmic value\n",
    "y1=np.log(y1)"
   ]
  },
  {
   "cell_type": "code",
   "execution_count": 71,
   "id": "26fe5193",
   "metadata": {},
   "outputs": [
    {
     "name": "stdout",
     "output_type": "stream",
     "text": [
      "(23018, 300) (9866, 300) (23018,) (9866,)\n"
     ]
    }
   ],
   "source": [
    "#splitting data into test and train\n",
    "train_x,test_x,train_y,test_y=train_test_split(x1,y1,test_size=0.3, random_state=3)\n",
    "print(train_x.shape,test_x.shape,train_y.shape,test_y.shape)"
   ]
  },
  {
   "cell_type": "code",
   "execution_count": 80,
   "id": "1edc3ef7",
   "metadata": {},
   "outputs": [
    {
     "name": "stdout",
     "output_type": "stream",
     "text": [
      "8.249615787653337\n"
     ]
    }
   ],
   "source": [
    "#Baseline model for ommitted data\n",
    "#base line model is make by using test data mean value.\n",
    "#this is to set a benchmark and to compare with our regression model\n",
    "\n",
    "#finding the mean value for test data\n",
    "base_pred=np.mean(test_y)\n",
    "print(base_pred)"
   ]
  },
  {
   "cell_type": "code",
   "execution_count": 82,
   "id": "237980d8",
   "metadata": {},
   "outputs": [
    {
     "data": {
      "text/plain": [
       "array([8.24961579, 8.24961579, 8.24961579, ..., 8.24961579, 8.24961579,\n",
       "       8.24961579])"
      ]
     },
     "execution_count": 82,
     "metadata": {},
     "output_type": "execute_result"
    }
   ],
   "source": [
    "#repeating same value till length of test data\n",
    "base_pred=np.repeat(base_pred, len(test_y))"
   ]
  },
  {
   "cell_type": "code",
   "execution_count": 83,
   "id": "d2aac384",
   "metadata": {},
   "outputs": [
    {
     "data": {
      "text/plain": [
       "(9866,)"
      ]
     },
     "execution_count": 83,
     "metadata": {},
     "output_type": "execute_result"
    }
   ],
   "source": [
    "base_pred.shape"
   ]
  },
  {
   "cell_type": "code",
   "execution_count": 84,
   "id": "92f3bdfe",
   "metadata": {},
   "outputs": [
    {
     "name": "stdout",
     "output_type": "stream",
     "text": [
      "1.1274483657478247\n"
     ]
    }
   ],
   "source": [
    "#finding the RMSE\n",
    "base_root_mean_square_error=np.sqrt(mean_squared_error(test_y, base_pred))\n",
    "print(base_root_mean_square_error)"
   ]
  },
  {
   "cell_type": "code",
   "execution_count": 85,
   "id": "08fabd28",
   "metadata": {},
   "outputs": [],
   "source": [
    "#Linear regression with ommitted data\n",
    "#setting intercept as true\n",
    "lgr=LinearRegression(fit_intercept=True)"
   ]
  },
  {
   "cell_type": "code",
   "execution_count": 86,
   "id": "3df2fb5b",
   "metadata": {},
   "outputs": [],
   "source": [
    "#fit model\n",
    "model=lgr.fit(train_x,train_y)"
   ]
  },
  {
   "cell_type": "code",
   "execution_count": 87,
   "id": "5d8788ad",
   "metadata": {},
   "outputs": [],
   "source": [
    "#predict model on test data\n",
    "pred=lgr.predict(test_x)"
   ]
  },
  {
   "cell_type": "code",
   "execution_count": 88,
   "id": "408463e9",
   "metadata": {},
   "outputs": [
    {
     "name": "stdout",
     "output_type": "stream",
     "text": [
      "0.5455481266513815\n"
     ]
    }
   ],
   "source": [
    "#computing MSE and RMSE\n",
    "lin_mse=mean_squared_error(test_y,pred)\n",
    "lin_rmse=np.sqrt(lin_mse)\n",
    "print(lin_rmse)"
   ]
  },
  {
   "cell_type": "code",
   "execution_count": 89,
   "id": "4ff75710",
   "metadata": {},
   "outputs": [
    {
     "name": "stdout",
     "output_type": "stream",
     "text": [
      "0.7658615091649266 0.7800936978183916\n"
     ]
    }
   ],
   "source": [
    "#R squared values\n",
    "r2_lin_test=model.score(test_x,test_y)\n",
    "r2_lin_train=model.score(train_x,train_y)\n",
    "print(r2_lin_test, r2_lin_train)"
   ]
  },
  {
   "cell_type": "code",
   "execution_count": 91,
   "id": "646540c3",
   "metadata": {},
   "outputs": [
    {
     "name": "stdout",
     "output_type": "stream",
     "text": [
      "count   9866.000\n",
      "mean       0.003\n",
      "std        0.546\n",
      "min       -5.796\n",
      "25%       -0.261\n",
      "50%        0.041\n",
      "75%        0.302\n",
      "max        4.547\n",
      "Name: price, dtype: float64\n"
     ]
    },
    {
     "data": {
      "image/png": "[encoded data removed]",
      "text/plain": [
       "<Figure size 432x288 with 1 Axes>"
      ]
     },
     "metadata": {
      "needs_background": "light"
     },
     "output_type": "display_data"
    }
   ],
   "source": [
    "#Regression diagnostics-residual plot analysis\n",
    "residuals=test_y-pred\n",
    "sns.regplot(x=pred, y=residuals, scatter=True, fit_reg=False)\n",
    "print(residuals.describe())\n",
    "#values are close to zero which means that predicted and actual values are nearly same"
   ]
  },
  {
   "cell_type": "code",
   "execution_count": 96,
   "id": "28ba206f",
   "metadata": {},
   "outputs": [
    {
     "name": "stdout",
     "output_type": "stream",
     "text": [
      "0.4360736289370223\n"
     ]
    }
   ],
   "source": [
    "#Random forest with omitted data\n",
    "rf=RandomForestRegressor(n_estimators=100, max_features='auto', \n",
    "                        max_depth=100, min_samples_split=10, \n",
    "                        min_samples_leaf=4, random_state=1)\n",
    "\n",
    "#model\n",
    "model=rf.fit(train_x,train_y)\n",
    "\n",
    "#predict \n",
    "pred=rf.predict(test_x)\n",
    "\n",
    "#compute MSE and RMSE\n",
    "rf_mse=mean_squared_error(test_y, pred)\n",
    "rf_rmse=np.sqrt(rf_mse)\n",
    "print(rf_rmse)"
   ]
  },
  {
   "cell_type": "code",
   "execution_count": 97,
   "id": "205ca24a",
   "metadata": {},
   "outputs": [
    {
     "name": "stdout",
     "output_type": "stream",
     "text": [
      "0.8504018147750623 0.9202494705146291\n"
     ]
    }
   ],
   "source": [
    "#R squared value\n",
    "r2_rf_test=model.score(test_x, test_y)\n",
    "r2_rf_train=model.score(train_x,train_y)\n",
    "print(r2_rf_test, r2_rf_train)"
   ]
  },
  {
   "cell_type": "code",
   "execution_count": 139,
   "id": "08a79050",
   "metadata": {},
   "outputs": [
    {
     "data": {
      "text/plain": [
       "price                0\n",
       "vehicleType          0\n",
       "gearbox              0\n",
       "powerPS              0\n",
       "model                0\n",
       "kilometer            0\n",
       "fuelType             0\n",
       "brand                0\n",
       "notRepairedDamage    0\n",
       "Age                  0\n",
       "dtype: int64"
      ]
     },
     "execution_count": 139,
     "metadata": {},
     "output_type": "execute_result"
    }
   ],
   "source": [
    "#model building with imputed data\n",
    "cars_imputed=cars.apply(lambda x:x.fillna(x.median())\\\n",
    "                       if x.dtype=='float' else \\\n",
    "                       x.fillna(x.value_counts().index[0]))\n",
    "cars_imputed.isnull().sum()"
   ]
  },
  {
   "cell_type": "code",
   "execution_count": 140,
   "id": "7d0f3395",
   "metadata": {},
   "outputs": [],
   "source": [
    "#one-hot encoding\n",
    "#converting categorical variables to dummy variables\n",
    "cars_imputed=pd.get_dummies(cars_imputed, drop_first=True)"
   ]
  },
  {
   "cell_type": "code",
   "execution_count": 141,
   "id": "79693f33",
   "metadata": {},
   "outputs": [],
   "source": [
    "#model building\n",
    "#separating input and output features\n",
    "x2=cars_imputed.drop(['price'], axis='columns', inplace=False)\n",
    "y2=cars_imputed['price']"
   ]
  },
  {
   "cell_type": "code",
   "execution_count": 142,
   "id": "f5ffdad1",
   "metadata": {},
   "outputs": [
    {
     "data": {
      "text/plain": [
       "array([[<AxesSubplot:title={'center':'1.Before'}>,\n",
       "        <AxesSubplot:title={'center':'2.After'}>]], dtype=object)"
      ]
     },
     "execution_count": 142,
     "metadata": {},
     "output_type": "execute_result"
    },
    {
     "data": {
      "image/png": "[encoded data removed]",
      "text/plain": [
       "<Figure size 432x288 with 2 Axes>"
      ]
     },
     "metadata": {
      "needs_background": "light"
     },
     "output_type": "display_data"
    }
   ],
   "source": [
    "#Plotting the variable price\n",
    "prices=pd.DataFrame({'1.Before':y2,'2.After':np.log(y2)})\n",
    "prices.hist()"
   ]
  },
  {
   "cell_type": "code",
   "execution_count": 143,
   "id": "40763a40",
   "metadata": {},
   "outputs": [],
   "source": [
    "y2=np.log(y2)"
   ]
  },
  {
   "cell_type": "code",
   "execution_count": 144,
   "id": "6c390403",
   "metadata": {},
   "outputs": [
    {
     "name": "stdout",
     "output_type": "stream",
     "text": [
      "(29940, 303) (12832, 303) (29940,) (12832,)\n"
     ]
    }
   ],
   "source": [
    "#splitting data into test and train\n",
    "train_x1,test_x1,train_y1,test_y1=train_test_split(x2,y2,test_size=0.3, random_state=3)\n",
    "print(train_x1.shape,test_x1.shape,train_y1.shape,test_y1.shape)"
   ]
  },
  {
   "cell_type": "code",
   "execution_count": 145,
   "id": "e3612dc0",
   "metadata": {},
   "outputs": [
    {
     "name": "stdout",
     "output_type": "stream",
     "text": [
      "8.068391740519193\n"
     ]
    }
   ],
   "source": [
    "#Baseline model for ommitted data\n",
    "#base line model is make by using test data mean value.\n",
    "#this is to set a benchmark and to compare with our regression model\n",
    "\n",
    "#finding the mean value for test data\n",
    "base_pred=np.mean(test_y1)\n",
    "print(base_pred)"
   ]
  },
  {
   "cell_type": "code",
   "execution_count": 146,
   "id": "45a0899a",
   "metadata": {},
   "outputs": [],
   "source": [
    "#repeating same value till length of test data\n",
    "base_pred=np.repeat(base_pred, len(test_y1))"
   ]
  },
  {
   "cell_type": "code",
   "execution_count": 147,
   "id": "a11d2117",
   "metadata": {},
   "outputs": [
    {
     "name": "stdout",
     "output_type": "stream",
     "text": [
      "1.1884349112889792\n"
     ]
    }
   ],
   "source": [
    "#finding the RMSE\n",
    "base_root_mean_square_error_imputed=np.sqrt(mean_squared_error(test_y1, base_pred))\n",
    "print(base_root_mean_square_error_imputed)"
   ]
  },
  {
   "cell_type": "code",
   "execution_count": 148,
   "id": "1c0b8725",
   "metadata": {},
   "outputs": [],
   "source": [
    "#Linear regression with ommitted data\n",
    "#setting intercept as true\n",
    "lgr2=LinearRegression(fit_intercept=True)"
   ]
  },
  {
   "cell_type": "code",
   "execution_count": 149,
   "id": "29f9317b",
   "metadata": {},
   "outputs": [],
   "source": [
    "model1=lgr2.fit(train_x1,train_y1)"
   ]
  },
  {
   "cell_type": "code",
   "execution_count": 150,
   "id": "785a5888",
   "metadata": {},
   "outputs": [],
   "source": [
    "pred1=lgr2.predict(test_x1)"
   ]
  },
  {
   "cell_type": "code",
   "execution_count": 151,
   "id": "24a59189",
   "metadata": {},
   "outputs": [
    {
     "name": "stdout",
     "output_type": "stream",
     "text": [
      "0.6483956449231307\n"
     ]
    }
   ],
   "source": [
    "#computing MSE and RMSE\n",
    "lin_mse1=mean_squared_error(test_y1,pred1)\n",
    "lin_rmse1=np.sqrt(lin_mse1)\n",
    "print(lin_rmse1)"
   ]
  },
  {
   "cell_type": "code",
   "execution_count": 152,
   "id": "73111163",
   "metadata": {},
   "outputs": [
    {
     "name": "stdout",
     "output_type": "stream",
     "text": [
      "0.7023339008631175 0.7071658736894363\n"
     ]
    }
   ],
   "source": [
    "#R squared values\n",
    "r2_lin_test1=model1.score(test_x1,test_y1)\n",
    "r2_lin_train1=model1.score(train_x1,train_y1)\n",
    "print(r2_lin_test1, r2_lin_train1)"
   ]
  },
  {
   "cell_type": "code",
   "execution_count": 153,
   "id": "c02cb0b8",
   "metadata": {},
   "outputs": [
    {
     "name": "stdout",
     "output_type": "stream",
     "text": [
      "0.494313994408829\n"
     ]
    }
   ],
   "source": [
    "#Random forest with imputed data\n",
    "rf1=RandomForestRegressor(n_estimators=100, max_features='auto', \n",
    "                        max_depth=100, min_samples_split=10, \n",
    "                        min_samples_leaf=4, random_state=1)\n",
    "\n",
    "#model\n",
    "model2=rf1.fit(train_x1,train_y1)\n",
    "\n",
    "#predict \n",
    "pred2=rf1.predict(test_x1)\n",
    "\n",
    "#compute MSE and RMSE\n",
    "rf_mse2=mean_squared_error(test_y1, pred2)\n",
    "rf_rmse2=np.sqrt(rf_mse2)\n",
    "print(rf_rmse2)"
   ]
  },
  {
   "cell_type": "code",
   "execution_count": 154,
   "id": "68f19060",
   "metadata": {},
   "outputs": [
    {
     "name": "stdout",
     "output_type": "stream",
     "text": [
      "0.8269964521311131 0.9024289431669166\n"
     ]
    }
   ],
   "source": [
    "#R squared value\n",
    "r2_rf1_test=model2.score(test_x1, test_y1)\n",
    "r2_rf1_train=model2.score(train_x1,train_y1)\n",
    "print(r2_rf1_test, r2_rf1_train)"
   ]
  },
  {
   "cell_type": "code",
   "execution_count": null,
   "id": "9a3e335c",
   "metadata": {},
   "outputs": [],
   "source": []
  }
 ],
 "metadata": {
  "kernelspec": {
   "display_name": "Python 3",
   "language": "python",
   "name": "python3"
  },
  "language_info": {
   "codemirror_mode": {
    "name": "ipython",
    "version": 3
   },
   "file_extension": ".py",
   "mimetype": "text/x-python",
   "name": "python",
   "nbconvert_exporter": "python",
   "pygments_lexer": "ipython3",
   "version": "3.8.8"
  }
 },
 "nbformat": 4,
 "nbformat_minor": 5
}
