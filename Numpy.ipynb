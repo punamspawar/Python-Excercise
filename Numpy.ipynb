{
 "cells": [
  {
   "cell_type": "code",
   "execution_count": 1,
   "id": "5eb32c67",
   "metadata": {},
   "outputs": [
    {
     "name": "stdout",
     "output_type": "stream",
     "text": [
      "[1, 2, 3, 4, 5, 6]\n"
     ]
    }
   ],
   "source": [
    "lst=[1,2,3,4,5,6]\n",
    "print(lst)"
   ]
  },
  {
   "cell_type": "code",
   "execution_count": 4,
   "id": "562e68b4",
   "metadata": {},
   "outputs": [
    {
     "name": "stdout",
     "output_type": "stream",
     "text": [
      "[1 2 3 4 5 6]\n"
     ]
    }
   ],
   "source": [
    "import numpy as np\n",
    "arr=np.array(lst, dtype=int)\n",
    "print(arr)"
   ]
  },
  {
   "cell_type": "code",
   "execution_count": 5,
   "id": "6e9a2ef7",
   "metadata": {},
   "outputs": [
    {
     "name": "stdout",
     "output_type": "stream",
     "text": [
      "<class 'numpy.ndarray'>\n",
      "6\n",
      "1\n",
      "(6,)\n"
     ]
    }
   ],
   "source": [
    "print(type(arr))\n",
    "print(len(arr))\n",
    "print(arr.ndim)\n",
    "print(arr.shape)"
   ]
  },
  {
   "cell_type": "code",
   "execution_count": 7,
   "id": "fdfcc007",
   "metadata": {},
   "outputs": [
    {
     "name": "stdout",
     "output_type": "stream",
     "text": [
      "[[1 2]\n",
      " [3 4]\n",
      " [5 6]]\n",
      "(3, 2)\n"
     ]
    }
   ],
   "source": [
    "arr1=arr.reshape(3,2)\n",
    "print(arr1)\n",
    "print(arr1.shape)"
   ]
  },
  {
   "cell_type": "code",
   "execution_count": 9,
   "id": "f547eb23",
   "metadata": {},
   "outputs": [
    {
     "name": "stdout",
     "output_type": "stream",
     "text": [
      "[[1 2 3]\n",
      " [4 5 6]]\n",
      "(2, 3)\n"
     ]
    }
   ],
   "source": [
    "arr2=arr.reshape(2,-1)\n",
    "print(arr2)\n",
    "print(arr2.shape)"
   ]
  },
  {
   "cell_type": "code",
   "execution_count": 13,
   "id": "964e7e94",
   "metadata": {},
   "outputs": [
    {
     "name": "stdout",
     "output_type": "stream",
     "text": [
      "[[2 3 4 5 6]\n",
      " [3 4 5 6 7]]\n",
      "(2, 5)\n"
     ]
    }
   ],
   "source": [
    "lst1=[2,3,4,5,6]\n",
    "lst2=[3,4,5,6,7]\n",
    "\n",
    "mul_arr=np.array((lst1,lst2)) # we provide list or tuple of list as input to array\n",
    "print(mul_arr),\n",
    "\n",
    "print(mul_arr.shape)"
   ]
  },
  {
   "cell_type": "code",
   "execution_count": 14,
   "id": "164e0b96",
   "metadata": {},
   "outputs": [
    {
     "name": "stdout",
     "output_type": "stream",
     "text": [
      "(3, 2)\n"
     ]
    }
   ],
   "source": [
    "a=np.array([[2,3],[3,4],[5,6]])\n",
    "print(a.shape)"
   ]
  },
  {
   "cell_type": "code",
   "execution_count": 16,
   "id": "9dbda2e6",
   "metadata": {},
   "outputs": [
    {
     "name": "stdout",
     "output_type": "stream",
     "text": [
      "[[2 3 3]\n",
      " [4 5 6]]\n"
     ]
    }
   ],
   "source": [
    "#to reshape ndarray\n",
    "a.shape=(2,3)\n",
    "print(a)"
   ]
  },
  {
   "cell_type": "code",
   "execution_count": 19,
   "id": "94d3d8de",
   "metadata": {},
   "outputs": [
    {
     "name": "stdout",
     "output_type": "stream",
     "text": [
      "[[2 3]\n",
      " [3 4]\n",
      " [5 6]]\n"
     ]
    }
   ],
   "source": [
    "b=a.reshape(3,2)\n",
    "print(b)"
   ]
  },
  {
   "cell_type": "code",
   "execution_count": 20,
   "id": "62f1dd8a",
   "metadata": {},
   "outputs": [
    {
     "name": "stdout",
     "output_type": "stream",
     "text": [
      "[ 0  1  2  3  4  5  6  7  8  9 10 11]\n",
      "1\n"
     ]
    }
   ],
   "source": [
    "#an array of evenly spaced members\n",
    "a=np.arange(12)\n",
    "print(a)\n",
    "print(a.ndim)"
   ]
  },
  {
   "cell_type": "code",
   "execution_count": 24,
   "id": "0893c60f",
   "metadata": {},
   "outputs": [
    {
     "name": "stdout",
     "output_type": "stream",
     "text": [
      "[[[ 0]\n",
      "  [ 1]\n",
      "  [ 2]\n",
      "  [ 3]]\n",
      "\n",
      " [[ 4]\n",
      "  [ 5]\n",
      "  [ 6]\n",
      "  [ 7]]\n",
      "\n",
      " [[ 8]\n",
      "  [ 9]\n",
      "  [10]\n",
      "  [11]]]\n"
     ]
    }
   ],
   "source": [
    "b=a.reshape(3,4,1)\n",
    "print(b)"
   ]
  },
  {
   "cell_type": "code",
   "execution_count": 28,
   "id": "b781ff03",
   "metadata": {},
   "outputs": [
    {
     "name": "stdout",
     "output_type": "stream",
     "text": [
      "[[[ 0  1  2  3  4  5  6  7  8  9 10 11]\n",
      "  [ 1  2  3  4  5  6  7  8  9 10 11 12]\n",
      "  [ 2  3  4  5  6  7  8  9 10 11 12 13]\n",
      "  [ 3  4  5  6  7  8  9 10 11 12 13 14]]\n",
      "\n",
      " [[ 4  5  6  7  8  9 10 11 12 13 14 15]\n",
      "  [ 5  6  7  8  9 10 11 12 13 14 15 16]\n",
      "  [ 6  7  8  9 10 11 12 13 14 15 16 17]\n",
      "  [ 7  8  9 10 11 12 13 14 15 16 17 18]]\n",
      "\n",
      " [[ 8  9 10 11 12 13 14 15 16 17 18 19]\n",
      "  [ 9 10 11 12 13 14 15 16 17 18 19 20]\n",
      "  [10 11 12 13 14 15 16 17 18 19 20 21]\n",
      "  [11 12 13 14 15 16 17 18 19 20 21 22]]]\n",
      "[[[ 0  1  2  3  4  5  6  7  8  9 10 11]\n",
      "  [ 1  2  3  4  5  6  7  8  9 10 11 12]\n",
      "  [ 2  3  4  5  6  7  8  9 10 11 12 13]\n",
      "  [ 3  4  5  6  7  8  9 10 11 12 13 14]]\n",
      "\n",
      " [[ 4  5  6  7  8  9 10 11 12 13 14 15]\n",
      "  [ 5  6  7  8  9 10 11 12 13 14 15 16]\n",
      "  [ 6  7  8  9 10 11 12 13 14 15 16 17]\n",
      "  [ 7  8  9 10 11 12 13 14 15 16 17 18]]\n",
      "\n",
      " [[ 8  9 10 11 12 13 14 15 16 17 18 19]\n",
      "  [ 9 10 11 12 13 14 15 16 17 18 19 20]\n",
      "  [10 11 12 13 14 15 16 17 18 19 20 21]\n",
      "  [11 12 13 14 15 16 17 18 19 20 21 22]]]\n"
     ]
    }
   ],
   "source": [
    "print(a+b)\n",
    "print(np.add(b,a))"
   ]
  },
  {
   "cell_type": "code",
   "execution_count": 32,
   "id": "967f0adc",
   "metadata": {},
   "outputs": [
    {
     "name": "stdout",
     "output_type": "stream",
     "text": [
      "[[[  0   1   2   3   4   5   6   7   8   9  10  11]\n",
      "  [ -1   0   1   2   3   4   5   6   7   8   9  10]\n",
      "  [ -2  -1   0   1   2   3   4   5   6   7   8   9]\n",
      "  [ -3  -2  -1   0   1   2   3   4   5   6   7   8]]\n",
      "\n",
      " [[ -4  -3  -2  -1   0   1   2   3   4   5   6   7]\n",
      "  [ -5  -4  -3  -2  -1   0   1   2   3   4   5   6]\n",
      "  [ -6  -5  -4  -3  -2  -1   0   1   2   3   4   5]\n",
      "  [ -7  -6  -5  -4  -3  -2  -1   0   1   2   3   4]]\n",
      "\n",
      " [[ -8  -7  -6  -5  -4  -3  -2  -1   0   1   2   3]\n",
      "  [ -9  -8  -7  -6  -5  -4  -3  -2  -1   0   1   2]\n",
      "  [-10  -9  -8  -7  -6  -5  -4  -3  -2  -1   0   1]\n",
      "  [-11 -10  -9  -8  -7  -6  -5  -4  -3  -2  -1   0]]]\n",
      "[[[  0  -1  -2  -3  -4  -5  -6  -7  -8  -9 -10 -11]\n",
      "  [  1   0  -1  -2  -3  -4  -5  -6  -7  -8  -9 -10]\n",
      "  [  2   1   0  -1  -2  -3  -4  -5  -6  -7  -8  -9]\n",
      "  [  3   2   1   0  -1  -2  -3  -4  -5  -6  -7  -8]]\n",
      "\n",
      " [[  4   3   2   1   0  -1  -2  -3  -4  -5  -6  -7]\n",
      "  [  5   4   3   2   1   0  -1  -2  -3  -4  -5  -6]\n",
      "  [  6   5   4   3   2   1   0  -1  -2  -3  -4  -5]\n",
      "  [  7   6   5   4   3   2   1   0  -1  -2  -3  -4]]\n",
      "\n",
      " [[  8   7   6   5   4   3   2   1   0  -1  -2  -3]\n",
      "  [  9   8   7   6   5   4   3   2   1   0  -1  -2]\n",
      "  [ 10   9   8   7   6   5   4   3   2   1   0  -1]\n",
      "  [ 11  10   9   8   7   6   5   4   3   2   1   0]]]\n"
     ]
    }
   ],
   "source": [
    "print(a-b)\n",
    "print(np.subtract(b,a))"
   ]
  },
  {
   "cell_type": "code",
   "execution_count": 37,
   "id": "db5f347c",
   "metadata": {},
   "outputs": [
    {
     "name": "stdout",
     "output_type": "stream",
     "text": [
      "[[[  0   0   0   0   0   0   0   0   0   0   0   0]\n",
      "  [  0   1   2   3   4   5   6   7   8   9  10  11]\n",
      "  [  0   2   4   6   8  10  12  14  16  18  20  22]\n",
      "  [  0   3   6   9  12  15  18  21  24  27  30  33]]\n",
      "\n",
      " [[  0   4   8  12  16  20  24  28  32  36  40  44]\n",
      "  [  0   5  10  15  20  25  30  35  40  45  50  55]\n",
      "  [  0   6  12  18  24  30  36  42  48  54  60  66]\n",
      "  [  0   7  14  21  28  35  42  49  56  63  70  77]]\n",
      "\n",
      " [[  0   8  16  24  32  40  48  56  64  72  80  88]\n",
      "  [  0   9  18  27  36  45  54  63  72  81  90  99]\n",
      "  [  0  10  20  30  40  50  60  70  80  90 100 110]\n",
      "  [  0  11  22  33  44  55  66  77  88  99 110 121]]]\n",
      "[[[  0   0   0   0   0   0   0   0   0   0   0   0]\n",
      "  [  0   1   2   3   4   5   6   7   8   9  10  11]\n",
      "  [  0   2   4   6   8  10  12  14  16  18  20  22]\n",
      "  [  0   3   6   9  12  15  18  21  24  27  30  33]]\n",
      "\n",
      " [[  0   4   8  12  16  20  24  28  32  36  40  44]\n",
      "  [  0   5  10  15  20  25  30  35  40  45  50  55]\n",
      "  [  0   6  12  18  24  30  36  42  48  54  60  66]\n",
      "  [  0   7  14  21  28  35  42  49  56  63  70  77]]\n",
      "\n",
      " [[  0   8  16  24  32  40  48  56  64  72  80  88]\n",
      "  [  0   9  18  27  36  45  54  63  72  81  90  99]\n",
      "  [  0  10  20  30  40  50  60  70  80  90 100 110]\n",
      "  [  0  11  22  33  44  55  66  77  88  99 110 121]]]\n"
     ]
    }
   ],
   "source": [
    "print(a*b)\n",
    "print(np.multiply(b,a))"
   ]
  },
  {
   "cell_type": "code",
   "execution_count": 40,
   "id": "3030ce70",
   "metadata": {},
   "outputs": [
    {
     "ename": "ValueError",
     "evalue": "shapes (12,) and (3,4,1) not aligned: 12 (dim 0) != 4 (dim 1)",
     "output_type": "error",
     "traceback": [
      "\u001b[1;31m---------------------------------------------------------------------------\u001b[0m",
      "\u001b[1;31mValueError\u001b[0m                                Traceback (most recent call last)",
      "\u001b[1;32m<ipython-input-40-bd5baef64e74>\u001b[0m in \u001b[0;36m<module>\u001b[1;34m\u001b[0m\n\u001b[1;32m----> 1\u001b[1;33m \u001b[0mprint\u001b[0m\u001b[1;33m(\u001b[0m\u001b[0ma\u001b[0m\u001b[1;33m.\u001b[0m\u001b[0mdot\u001b[0m\u001b[1;33m(\u001b[0m\u001b[0mb\u001b[0m\u001b[1;33m)\u001b[0m\u001b[1;33m)\u001b[0m\u001b[1;33m\u001b[0m\u001b[1;33m\u001b[0m\u001b[0m\n\u001b[0m\u001b[0;32m      2\u001b[0m \u001b[0mprint\u001b[0m\u001b[1;33m(\u001b[0m\u001b[0mnp\u001b[0m\u001b[1;33m.\u001b[0m\u001b[0mdot\u001b[0m\u001b[1;33m(\u001b[0m\u001b[0mb\u001b[0m\u001b[1;33m,\u001b[0m\u001b[0ma\u001b[0m\u001b[1;33m)\u001b[0m\u001b[1;33m)\u001b[0m\u001b[1;33m\u001b[0m\u001b[1;33m\u001b[0m\u001b[0m\n",
      "\u001b[1;31mValueError\u001b[0m: shapes (12,) and (3,4,1) not aligned: 12 (dim 0) != 4 (dim 1)"
     ]
    }
   ],
   "source": [
    "print(a.dot(b))\n",
    "print(np.dot(b,a))"
   ]
  },
  {
   "cell_type": "code",
   "execution_count": 43,
   "id": "ccb4375f",
   "metadata": {},
   "outputs": [
    {
     "name": "stdout",
     "output_type": "stream",
     "text": [
      "[[[        nan  0.          0.          0.          0.\n",
      "    0.          0.          0.          0.          0.\n",
      "    0.          0.        ]\n",
      "  [        inf  1.          0.5         0.33333333  0.25\n",
      "    0.2         0.16666667  0.14285714  0.125       0.11111111\n",
      "    0.1         0.09090909]\n",
      "  [        inf  2.          1.          0.66666667  0.5\n",
      "    0.4         0.33333333  0.28571429  0.25        0.22222222\n",
      "    0.2         0.18181818]\n",
      "  [        inf  3.          1.5         1.          0.75\n",
      "    0.6         0.5         0.42857143  0.375       0.33333333\n",
      "    0.3         0.27272727]]\n",
      "\n",
      " [[        inf  4.          2.          1.33333333  1.\n",
      "    0.8         0.66666667  0.57142857  0.5         0.44444444\n",
      "    0.4         0.36363636]\n",
      "  [        inf  5.          2.5         1.66666667  1.25\n",
      "    1.          0.83333333  0.71428571  0.625       0.55555556\n",
      "    0.5         0.45454545]\n",
      "  [        inf  6.          3.          2.          1.5\n",
      "    1.2         1.          0.85714286  0.75        0.66666667\n",
      "    0.6         0.54545455]\n",
      "  [        inf  7.          3.5         2.33333333  1.75\n",
      "    1.4         1.16666667  1.          0.875       0.77777778\n",
      "    0.7         0.63636364]]\n",
      "\n",
      " [[        inf  8.          4.          2.66666667  2.\n",
      "    1.6         1.33333333  1.14285714  1.          0.88888889\n",
      "    0.8         0.72727273]\n",
      "  [        inf  9.          4.5         3.          2.25\n",
      "    1.8         1.5         1.28571429  1.125       1.\n",
      "    0.9         0.81818182]\n",
      "  [        inf 10.          5.          3.33333333  2.5\n",
      "    2.          1.66666667  1.42857143  1.25        1.11111111\n",
      "    1.          0.90909091]\n",
      "  [        inf 11.          5.5         3.66666667  2.75\n",
      "    2.2         1.83333333  1.57142857  1.375       1.22222222\n",
      "    1.1         1.        ]]]\n",
      "[[[        nan         inf         inf         inf         inf\n",
      "           inf         inf         inf         inf         inf\n",
      "           inf         inf]\n",
      "  [ 0.          1.          2.          3.          4.\n",
      "    5.          6.          7.          8.          9.\n",
      "   10.         11.        ]\n",
      "  [ 0.          0.5         1.          1.5         2.\n",
      "    2.5         3.          3.5         4.          4.5\n",
      "    5.          5.5       ]\n",
      "  [ 0.          0.33333333  0.66666667  1.          1.33333333\n",
      "    1.66666667  2.          2.33333333  2.66666667  3.\n",
      "    3.33333333  3.66666667]]\n",
      "\n",
      " [[ 0.          0.25        0.5         0.75        1.\n",
      "    1.25        1.5         1.75        2.          2.25\n",
      "    2.5         2.75      ]\n",
      "  [ 0.          0.2         0.4         0.6         0.8\n",
      "    1.          1.2         1.4         1.6         1.8\n",
      "    2.          2.2       ]\n",
      "  [ 0.          0.16666667  0.33333333  0.5         0.66666667\n",
      "    0.83333333  1.          1.16666667  1.33333333  1.5\n",
      "    1.66666667  1.83333333]\n",
      "  [ 0.          0.14285714  0.28571429  0.42857143  0.57142857\n",
      "    0.71428571  0.85714286  1.          1.14285714  1.28571429\n",
      "    1.42857143  1.57142857]]\n",
      "\n",
      " [[ 0.          0.125       0.25        0.375       0.5\n",
      "    0.625       0.75        0.875       1.          1.125\n",
      "    1.25        1.375     ]\n",
      "  [ 0.          0.11111111  0.22222222  0.33333333  0.44444444\n",
      "    0.55555556  0.66666667  0.77777778  0.88888889  1.\n",
      "    1.11111111  1.22222222]\n",
      "  [ 0.          0.1         0.2         0.3         0.4\n",
      "    0.5         0.6         0.7         0.8         0.9\n",
      "    1.          1.1       ]\n",
      "  [ 0.          0.09090909  0.18181818  0.27272727  0.36363636\n",
      "    0.45454545  0.54545455  0.63636364  0.72727273  0.81818182\n",
      "    0.90909091  1.        ]]]\n"
     ]
    },
    {
     "name": "stderr",
     "output_type": "stream",
     "text": [
      "<ipython-input-43-0ebd707bbb79>:1: RuntimeWarning: divide by zero encountered in true_divide\n",
      "  print(b/a)\n",
      "<ipython-input-43-0ebd707bbb79>:1: RuntimeWarning: invalid value encountered in true_divide\n",
      "  print(b/a)\n",
      "<ipython-input-43-0ebd707bbb79>:2: RuntimeWarning: divide by zero encountered in true_divide\n",
      "  print(np.divide(a,b))\n",
      "<ipython-input-43-0ebd707bbb79>:2: RuntimeWarning: invalid value encountered in true_divide\n",
      "  print(np.divide(a,b))\n"
     ]
    }
   ],
   "source": [
    "print(b/a)\n",
    "print(np.divide(a,b))"
   ]
  },
  {
   "cell_type": "code",
   "execution_count": 47,
   "id": "7687c080",
   "metadata": {},
   "outputs": [
    {
     "name": "stdout",
     "output_type": "stream",
     "text": [
      "[[[ 0]\n",
      "  [ 1]\n",
      "  [ 2]\n",
      "  [ 3]]\n",
      "\n",
      " [[ 4]\n",
      "  [ 5]\n",
      "  [ 6]\n",
      "  [ 7]]\n",
      "\n",
      " [[ 8]\n",
      "  [ 9]\n",
      "  [10]\n",
      "  [11]]]\n",
      "66\n"
     ]
    }
   ],
   "source": [
    "print(b)\n",
    "print(np.sum(b))"
   ]
  },
  {
   "cell_type": "code",
   "execution_count": 48,
   "id": "b9ef3a57",
   "metadata": {},
   "outputs": [
    {
     "name": "stdout",
     "output_type": "stream",
     "text": [
      "[[12]\n",
      " [15]\n",
      " [18]\n",
      " [21]]\n"
     ]
    }
   ],
   "source": [
    "print(np.sum(b, axis=0)) #compute sum of each column"
   ]
  },
  {
   "cell_type": "code",
   "execution_count": 49,
   "id": "886f7ee0",
   "metadata": {},
   "outputs": [
    {
     "name": "stdout",
     "output_type": "stream",
     "text": [
      "[[ 6]\n",
      " [22]\n",
      " [38]]\n"
     ]
    }
   ],
   "source": [
    "print(np.sum(b, axis=1)) #compute sum of each row"
   ]
  },
  {
   "cell_type": "code",
   "execution_count": null,
   "id": "8896fcda",
   "metadata": {},
   "outputs": [],
   "source": []
  }
 ],
 "metadata": {
  "kernelspec": {
   "display_name": "Python 3",
   "language": "python",
   "name": "python3"
  },
  "language_info": {
   "codemirror_mode": {
    "name": "ipython",
    "version": 3
   },
   "file_extension": ".py",
   "mimetype": "text/x-python",
   "name": "python",
   "nbconvert_exporter": "python",
   "pygments_lexer": "ipython3",
   "version": "3.8.8"
  }
 },
 "nbformat": 4,
 "nbformat_minor": 5
}
